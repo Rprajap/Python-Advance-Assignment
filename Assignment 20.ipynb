{
 "cells": [
  {
   "cell_type": "markdown",
   "id": "b199e698",
   "metadata": {},
   "source": [
    "**Q1**. Compare and contrast the float and Decimal classes benefits and drawbacks.\n",
    "\n",
    "**Answer:-\n",
    "\n",
    "Both the float and decimal types store numerical values in Python.\n",
    "\n",
    "Use floats when convenience and speed matter. A float gives you an approximation of the number you declare.\n",
    "\n",
    "Use decimals when precision matters. Decimals can suffer from their own precision issues, but generally, decimals are more precise than floats. The performance difference between float and decimal, with Python 3, is not outlandish, and in my experience, the precision benefits of a decimal outweigh the performance benefits of a float.\n",
    "\n",
    "**Q2**. Decimal('1.200') and Decimal('1.2') are two objects to consider. In what sense are these the same object? Are these just two ways of representing the exact same value, or do they correspond to different internal states?\n",
    "\n",
    "**Answer**:-\n",
    "\n",
    "Both values are same but internal representation at storage Is different. Precsion differs, Decimal('1.200') gives internally 1.200 and Decimal('1.2') gives 1.2.\n",
    "\n",
    "**Q3** What happens if the equality of Decimal('1.200') and Decimal('1.2') is checked?\n",
    "\n",
    "**Answer**:-\n",
    "\n",
    "Both values are checked to be equal , they only differ in precision.\n",
    "\n",
    "**Q4**. Why is it preferable to start a Decimal object with a string rather than a floating-point value?\n",
    "\n",
    "**Answer**:-\n",
    "\n",
    "loating-point value is converted to Decimal format. Decimal can store float value with absolute precision. But when float value is given as Decimal object,it first has to be converted from floating point value which might already have rounding error.\n",
    "\n",
    "Hence it is preferable to start a Decimal object with a string.\n",
    "\n",
    "**Example**:-"
   ]
  },
  {
   "cell_type": "code",
   "execution_count": 1,
   "id": "805cde04",
   "metadata": {},
   "outputs": [
    {
     "name": "stdout",
     "output_type": "stream",
     "text": [
      "0.299999999999999988897769753748434595763683319091796875\n",
      "0.3\n"
     ]
    }
   ],
   "source": [
    "import decimal\n",
    "from decimal import Decimal\n",
    "a=Decimal(0.3) #0.3 is a float\n",
    "print(a) # It is not stored exactly as 0.3 but as printed.\n",
    "b=Decimal('0.3') #'0.3' is a string\n",
    "print(b) #It exactly prints 0.3, precisely, with correct precision."
   ]
  },
  {
   "cell_type": "markdown",
   "id": "61c12614",
   "metadata": {},
   "source": [
    "**Q5** In an arithmetic phrase, how simple is it to combine Decimal objects with integers?\n",
    "\n",
    "**Answer**:-\n",
    "\n",
    "We can do it with use of Decimal().\n",
    "\n",
    "**Example**:-"
   ]
  },
  {
   "cell_type": "code",
   "execution_count": 2,
   "id": "2429b30e",
   "metadata": {},
   "outputs": [
    {
     "name": "stdout",
     "output_type": "stream",
     "text": [
      "<class 'int'>\n",
      "2\n",
      "4\n"
     ]
    }
   ],
   "source": [
    "import decimal\n",
    "from decimal import Decimal\n",
    "val=2\n",
    "print(type(val))\n",
    "a=Decimal(val)\n",
    "print(a)\n",
    "b=a*Decimal(val)\n",
    "print(b)"
   ]
  },
  {
   "cell_type": "markdown",
   "id": "4a6de974",
   "metadata": {},
   "source": [
    "**Q6** Can Decimal objects and floating-point values be combined easily?\n",
    "\n",
    "**Answer**:-\n",
    "\n",
    "Arithmetic operfations like Adding,subtracting or multiplying a Decimal object by a floating-point value is generates an error.\n",
    "\n",
    "**Example**:-"
   ]
  },
  {
   "cell_type": "code",
   "execution_count": 3,
   "id": "0fb1abbf",
   "metadata": {},
   "outputs": [
    {
     "name": "stdout",
     "output_type": "stream",
     "text": [
      "Muliplication: 0.05999999999999999777955395075\n"
     ]
    },
    {
     "ename": "TypeError",
     "evalue": "unsupported operand type(s) for *: 'decimal.Decimal' and 'float'",
     "output_type": "error",
     "traceback": [
      "\u001b[1;31m---------------------------------------------------------------------------\u001b[0m",
      "\u001b[1;31mTypeError\u001b[0m                                 Traceback (most recent call last)",
      "\u001b[1;32m~\\AppData\\Local\\Temp/ipykernel_13560/1812945248.py\u001b[0m in \u001b[0;36m<module>\u001b[1;34m\u001b[0m\n\u001b[0;32m      4\u001b[0m \u001b[0mb\u001b[0m\u001b[1;33m=\u001b[0m\u001b[0mDecimal\u001b[0m\u001b[1;33m(\u001b[0m\u001b[0mval\u001b[0m\u001b[1;33m)\u001b[0m\u001b[1;33m\u001b[0m\u001b[1;33m\u001b[0m\u001b[0m\n\u001b[0;32m      5\u001b[0m \u001b[0mprint\u001b[0m\u001b[1;33m(\u001b[0m\u001b[1;34m\"Muliplication:\"\u001b[0m\u001b[1;33m,\u001b[0m\u001b[0mDecimal\u001b[0m\u001b[1;33m(\u001b[0m\u001b[1;34m'0.2'\u001b[0m\u001b[1;33m)\u001b[0m\u001b[1;33m*\u001b[0m\u001b[0mb\u001b[0m \u001b[1;33m)\u001b[0m \u001b[1;31m# Multiplying a decimal object with float value converted to Decimal\u001b[0m\u001b[1;33m\u001b[0m\u001b[1;33m\u001b[0m\u001b[0m\n\u001b[1;32m----> 6\u001b[1;33m \u001b[0mprint\u001b[0m\u001b[1;33m(\u001b[0m\u001b[0mDecimal\u001b[0m\u001b[1;33m(\u001b[0m\u001b[1;34m'0.2'\u001b[0m\u001b[1;33m)\u001b[0m\u001b[1;33m*\u001b[0m\u001b[0mval\u001b[0m\u001b[1;33m)\u001b[0m\u001b[1;31m# Error when Decimal obeject is multiplied by a float\u001b[0m\u001b[1;33m\u001b[0m\u001b[1;33m\u001b[0m\u001b[0m\n\u001b[0m",
      "\u001b[1;31mTypeError\u001b[0m: unsupported operand type(s) for *: 'decimal.Decimal' and 'float'"
     ]
    }
   ],
   "source": [
    "import decimal\n",
    "from decimal import Decimal\n",
    "val=0.3\n",
    "b=Decimal(val)\n",
    "print(\"Muliplication:\",Decimal('0.2')*b ) # Multiplying a decimal object with float value converted to Decimal\n",
    "print(Decimal('0.2')*val)# Error when Decimal obeject is multiplied by a float"
   ]
  },
  {
   "cell_type": "markdown",
   "id": "c9be77f2",
   "metadata": {},
   "source": [
    "**Q7**. Using the Fraction class but not the Decimal class, give an example of a quantity that can be expressed with absolute precision.\n",
    "\n",
    "**Answer**:-\n",
    "\n",
    "Value of 0.5 will be represented as ½.\n",
    "\n",
    "**Example**:-"
   ]
  },
  {
   "cell_type": "code",
   "execution_count": 4,
   "id": "0770141c",
   "metadata": {},
   "outputs": [
    {
     "name": "stdout",
     "output_type": "stream",
     "text": [
      "1/2\n"
     ]
    }
   ],
   "source": [
    "from fractions import Fraction\n",
    "val=0.5\n",
    "fr=Fraction(val)\n",
    "print(fr)"
   ]
  },
  {
   "cell_type": "markdown",
   "id": "2f55f26b",
   "metadata": {},
   "source": [
    "**Q8**. Describe a quantity that can be accurately expressed by the Decimal or Fraction classes but not by a floating-point value.\n",
    "\n",
    "**Answer**:-"
   ]
  },
  {
   "cell_type": "code",
   "execution_count": 5,
   "id": "549b81bf",
   "metadata": {},
   "outputs": [
    {
     "name": "stdout",
     "output_type": "stream",
     "text": [
      "decimal= 0.01\n",
      "fraction= 1/100\n",
      "float value= 0.010000000000000002\n"
     ]
    }
   ],
   "source": [
    "d = Decimal('0.1') * Decimal('0.1')\n",
    "print(\"decimal=\",d)\n",
    "frac = Fraction('1/10') * Fraction('1/10')\n",
    "print(\"fraction=\",frac)\n",
    "fl = 0.1*0.1\n",
    "print(\"float value=\",fl)"
   ]
  },
  {
   "cell_type": "markdown",
   "id": "8bdcb6e4",
   "metadata": {},
   "source": [
    "**Q9**. Consider the following two fraction objects: Fraction(1, 2) and Fraction(1, 2). (5, 10). Is the internal state of these two objects the same? Why do you think that is?\n",
    "\n",
    "**Answer**:-\n",
    "\n",
    "Both will be reduced to 1/2\n",
    "\n",
    "**Example**:-"
   ]
  },
  {
   "cell_type": "code",
   "execution_count": 6,
   "id": "18be2aad",
   "metadata": {},
   "outputs": [
    {
     "name": "stdout",
     "output_type": "stream",
     "text": [
      "1/2\n",
      "1/2\n",
      "Fraction (1,2) and Fraction(5,10) are equal\n"
     ]
    }
   ],
   "source": [
    "from fractions import Fraction\n",
    "frac1=Fraction(1, 2)\n",
    "print(frac1)\n",
    "frac2=Fraction(5, 10)\n",
    "print(frac2)\n",
    "if (frac1 == frac2 ):\n",
    "    print('Fraction (1,2) and Fraction(5,10) are equal')\n",
    "#    The internal state of both are same as Fraction(5,10) is reduced to simplest form. \n",
    "#    Hence 1/2 is printed in both the cases."
   ]
  },
  {
   "cell_type": "markdown",
   "id": "adc2a0c7",
   "metadata": {},
   "source": [
    "**Q10**. How do the Fraction class and the integer type (int) relate to each other? Containment or inheritance?\n",
    "\n",
    "**Answer**:-\n",
    "\n",
    "Fraction class and integer type(int) are related in form of a container.It contains two ints, one the numerator and the other the denominator.\n",
    "\n",
    "**Example**:-"
   ]
  },
  {
   "cell_type": "code",
   "execution_count": 7,
   "id": "c571bf98",
   "metadata": {},
   "outputs": [
    {
     "name": "stdout",
     "output_type": "stream",
     "text": [
      "numerator is 1 <class 'int'>\n",
      "denominator is 2 <class 'int'>\n"
     ]
    }
   ],
   "source": [
    "from fractions import Fraction\n",
    "\n",
    "frac = Fraction(1,2)\n",
    "print('numerator is', frac.numerator,type(frac.numerator))\n",
    "print('denominator is', frac.denominator,type(frac.numerator) )"
   ]
  }
 ],
 "metadata": {
  "kernelspec": {
   "display_name": "Python 3 (ipykernel)",
   "language": "python",
   "name": "python3"
  },
  "language_info": {
   "codemirror_mode": {
    "name": "ipython",
    "version": 3
   },
   "file_extension": ".py",
   "mimetype": "text/x-python",
   "name": "python",
   "nbconvert_exporter": "python",
   "pygments_lexer": "ipython3",
   "version": "3.9.7"
  }
 },
 "nbformat": 4,
 "nbformat_minor": 5
}
