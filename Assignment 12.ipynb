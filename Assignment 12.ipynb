{
 "cells": [
  {
   "cell_type": "markdown",
   "id": "38820451",
   "metadata": {},
   "source": [
    "**Q1**. Does assigning a value to a string's indexed character violate Python's string immutability?\n",
    "\n",
    "**Answer**:\n",
    "\n",
    "Yes. It is beacause of string immutability that means we can not change the characters in string by assigning new values to indexes.\n",
    "\n",
    "**Example**:"
   ]
  },
  {
   "cell_type": "code",
   "execution_count": 1,
   "id": "58e26288",
   "metadata": {},
   "outputs": [
    {
     "name": "stdout",
     "output_type": "stream",
     "text": [
      "1696105849072\n"
     ]
    },
    {
     "ename": "TypeError",
     "evalue": "'str' object does not support item assignment",
     "output_type": "error",
     "traceback": [
      "\u001b[1;31m---------------------------------------------------------------------------\u001b[0m",
      "\u001b[1;31mTypeError\u001b[0m                                 Traceback (most recent call last)",
      "\u001b[1;32m~\\AppData\\Local\\Temp/ipykernel_9844/3965781564.py\u001b[0m in \u001b[0;36m<module>\u001b[1;34m\u001b[0m\n\u001b[0;32m      1\u001b[0m \u001b[0mname\u001b[0m \u001b[1;33m=\u001b[0m \u001b[1;34m\"Techneuron\"\u001b[0m\u001b[1;33m\u001b[0m\u001b[1;33m\u001b[0m\u001b[0m\n\u001b[0;32m      2\u001b[0m \u001b[0mprint\u001b[0m\u001b[1;33m(\u001b[0m\u001b[0mid\u001b[0m\u001b[1;33m(\u001b[0m\u001b[0mname\u001b[0m\u001b[1;33m)\u001b[0m\u001b[1;33m)\u001b[0m\u001b[1;33m\u001b[0m\u001b[1;33m\u001b[0m\u001b[0m\n\u001b[1;32m----> 3\u001b[1;33m \u001b[0mname\u001b[0m\u001b[1;33m[\u001b[0m\u001b[1;36m0\u001b[0m\u001b[1;33m]\u001b[0m \u001b[1;33m=\u001b[0m\u001b[1;34m'I'\u001b[0m\u001b[1;33m\u001b[0m\u001b[1;33m\u001b[0m\u001b[0m\n\u001b[0m",
      "\u001b[1;31mTypeError\u001b[0m: 'str' object does not support item assignment"
     ]
    }
   ],
   "source": [
    "name = \"Techneuron\"\n",
    "print(id(name))\n",
    "name[0] ='I'"
   ]
  },
  {
   "cell_type": "markdown",
   "id": "c2bbf489",
   "metadata": {},
   "source": [
    "**Q2**. Does using the += operator to concatenate strings violate Python's string immutability? Why or why not?\n",
    "\n",
    "**Answer**:\n",
    "\n",
    "No. When we concatenate string, we assign new value to the same string variable. We are not altering string based on the indexes, so it won't violate Python's string immutability.\n",
    "\n",
    "**Example**:"
   ]
  },
  {
   "cell_type": "code",
   "execution_count": 4,
   "id": "ace46567",
   "metadata": {},
   "outputs": [
    {
     "name": "stdout",
     "output_type": "stream",
     "text": [
      "1696105849776\n",
      "1696105967536\n",
      "NeuronTech\n"
     ]
    }
   ],
   "source": [
    "str_1 = 'Neuron'\n",
    "print(id(str_1))\n",
    "\n",
    "str_1 += 'Tech'\n",
    "print(id(str_1)) \n",
    "print(str_1) # new String is created."
   ]
  },
  {
   "cell_type": "markdown",
   "id": "4e27e449",
   "metadata": {},
   "source": [
    "**Q3**. In Python, how many different ways are there to index a character?\n",
    "\n",
    "**Answer**:\n",
    "\n",
    "There are 2 ways to index a character. Accessing characters by a Positive Index Number & Negative Index Number.\n",
    "\n",
    "**Example**:-"
   ]
  },
  {
   "cell_type": "code",
   "execution_count": 5,
   "id": "b0bef60a",
   "metadata": {},
   "outputs": [
    {
     "name": "stdout",
     "output_type": "stream",
     "text": [
      "g   a\n",
      "n e o\n"
     ]
    }
   ],
   "source": [
    "my_string = \"I am doing Full Stack Data Science program from iNeuron\"\n",
    "\n",
    "print(my_string[9],my_string[10],my_string[2]) # Positive Indexing\n",
    "print(my_string[-1],my_string[-5],my_string[-2]) # Negative Indexing"
   ]
  },
  {
   "cell_type": "markdown",
   "id": "ec99d619",
   "metadata": {},
   "source": [
    "**Q4**. What is the relationship between indexing and slicing?\n",
    "\n",
    "**Answer**:\n",
    "\n",
    "* indexing - used as a resource to obtain individual elements and\n",
    "* slicing - is used to obtain a sequence of those elements.\n",
    "\n",
    "**Example**:-"
   ]
  },
  {
   "cell_type": "code",
   "execution_count": 7,
   "id": "cf7e8853",
   "metadata": {},
   "outputs": [
    {
     "name": "stdout",
     "output_type": "stream",
     "text": [
      "g   a\n",
      " am doing Full\n"
     ]
    }
   ],
   "source": [
    "my_string = \"I am doing Full Stack Data Science program from iNeuron\"\n",
    "print(my_string[9],my_string[10],my_string[2]) # indexing\n",
    "print(my_string[1:15]) # Slicing"
   ]
  },
  {
   "cell_type": "markdown",
   "id": "79af00b1",
   "metadata": {},
   "source": [
    "**Q5**. What is an indexed character's exact data type? What is the data form of a slicing-generated substring?\n",
    "\n",
    "**Answer**:\n",
    "\n",
    "Indexed characters and sliced substrings have String datatype.\n",
    "\n",
    "**Example**:"
   ]
  },
  {
   "cell_type": "code",
   "execution_count": 10,
   "id": "4385086e",
   "metadata": {},
   "outputs": [
    {
     "name": "stdout",
     "output_type": "stream",
     "text": [
      "<class 'str'>\n",
      "<class 'str'>\n"
     ]
    }
   ],
   "source": [
    "my_string = \"I am doing Full Stack Data Science program from iNeuron\"\n",
    "print(type(my_string[9]))\n",
    "print(type(my_string[1:15]))"
   ]
  },
  {
   "cell_type": "markdown",
   "id": "cf1ce643",
   "metadata": {},
   "source": [
    "**Q6**. What is the relationship between string and character \"types\" in Python?\n",
    "\n",
    "**Answer**:\n",
    "\n",
    "Collection of characters in sequence forms a string.\n",
    "\n",
    "And Strings are used with single or double quotes."
   ]
  },
  {
   "cell_type": "markdown",
   "id": "3354f625",
   "metadata": {},
   "source": [
    "**Q7**. Identify at least two operators and one method that allow you to combine one or more smaller strings to create a larger string.\n",
    "\n",
    "**Answer**:\n",
    "\n",
    " **+** operator and  *  operator that allow to combine.\n",
    "\n",
    " join()  method is used to create a larger string.\n",
    "\n",
    "**Example**:-"
   ]
  },
  {
   "cell_type": "code",
   "execution_count": 11,
   "id": "52335dda",
   "metadata": {},
   "outputs": [
    {
     "name": "stdout",
     "output_type": "stream",
     "text": [
      "Hello!How are you?\n",
      "RainRainRainRain\n",
      "How are you?\n"
     ]
    }
   ],
   "source": [
    "print(\"Hello!\" + 'How are you?')\n",
    "\n",
    "print(\"Rain\" * 4)\n",
    "\n",
    "l = ['How', 'are', 'you?']\n",
    "\n",
    "s = ' '.join(l)\n",
    "\n",
    "print(s)"
   ]
  },
  {
   "cell_type": "markdown",
   "id": "53854eb0",
   "metadata": {},
   "source": [
    "**Q8**. What is the benefit of first checking the target string with in or not in before using the index method to find a substring?\n",
    "\n",
    "**Answer**:\n",
    "\n",
    "Normally, When we use index() method it will return the starting index of a substring, if substring is present in a string. But the major concern is if a substring is not present in a string, index() will return a ValueError. To avoid this, we can first check the target string with in or not in before using the index method to find a substring.\n",
    "\n",
    "**Example**:-"
   ]
  },
  {
   "cell_type": "code",
   "execution_count": 12,
   "id": "49556a2c",
   "metadata": {},
   "outputs": [
    {
     "name": "stdout",
     "output_type": "stream",
     "text": [
      "2\n"
     ]
    },
    {
     "data": {
      "text/plain": [
       "2"
      ]
     },
     "execution_count": 12,
     "metadata": {},
     "output_type": "execute_result"
    }
   ],
   "source": [
    "u = 'Ineuron'\n",
    "\n",
    "u1 = 'euron'\n",
    "\n",
    "if u1 in u:\n",
    "    print(u.index(u1))\n",
    "\n",
    "u.index(u1)"
   ]
  },
  {
   "cell_type": "markdown",
   "id": "b4be14a8",
   "metadata": {},
   "source": [
    "**Q9**. Which operators and built-in string methods produce simple Boolean (true/false) results?\n",
    "\n",
    "**Answer**:\n",
    "\n",
    "**Operators**:\n",
    "\n",
    "* Comparison operators : (== ,!= ,< ,> ,<=, >=)\n",
    "* Logical Operators : (and, or, not)\n",
    "* Identity Operators : (is , is not)\n",
    "* Membership Operators : (in, not in)\n",
    "\n",
    "\n",
    "* **String methods**:-\n",
    "\n",
    "\n",
    "* endswith() : Returns true if the string ends with the specified value.\n",
    "* isalnum() : Returns True if all characters in the string are alphanumeric.\n",
    "* isalpha() : Returns True if all characters in the string are in the alphabet.\n",
    "* isdecimal() : Returns True if all characters in the string are decimals.\n",
    "* isdigit() : Returns True if all characters in the string are digits.\n",
    "* isidentifier() : Returns True if the string is an identifier.\n",
    "* islower() : Returns True if all characters in the string are lower case.\n",
    "* isnumeric() : Returns True if all characters in the string are numeric.\n",
    "* isprintable() : Returns True if all characters in the string are printable.\n",
    "* isspace() : Returns True if all characters in the string are whitespaces.\n",
    "* istitle() : Returns True if the string follows the rules of a title.\n",
    "* isupper() : Returns True if all characters in the string are upper case."
   ]
  }
 ],
 "metadata": {
  "kernelspec": {
   "display_name": "Python 3 (ipykernel)",
   "language": "python",
   "name": "python3"
  },
  "language_info": {
   "codemirror_mode": {
    "name": "ipython",
    "version": 3
   },
   "file_extension": ".py",
   "mimetype": "text/x-python",
   "name": "python",
   "nbconvert_exporter": "python",
   "pygments_lexer": "ipython3",
   "version": "3.9.7"
  }
 },
 "nbformat": 4,
 "nbformat_minor": 5
}
