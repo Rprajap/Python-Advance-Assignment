{
 "cells": [
  {
   "cell_type": "markdown",
   "id": "92a80201",
   "metadata": {},
   "source": [
    "**Q1**. What is the concept of an abstract superclass?\n",
    "\n",
    "**Answer**:-"
   ]
  },
  {
   "cell_type": "markdown",
   "id": "6544e168",
   "metadata": {},
   "source": [
    "A class which contains one or more abstract methods is called an abstract class. An abstract method is a method that has a declaration but does not have an implementation. Python Don't support Abstract class, So we have ABC(abstract Base Classes) Module, so we can use here to achieve abstract classes. \n",
    "\n",
    "**Example**:-"
   ]
  },
  {
   "cell_type": "code",
   "execution_count": 1,
   "id": "d9d7c9dc",
   "metadata": {},
   "outputs": [],
   "source": [
    "from abc import ABC, abstractmethod\n",
    "\n",
    "class computer(ABC):\n",
    "    @abstractmethod\n",
    "    def process(self):\n",
    "        pass\n",
    "class laptop(computer):\n",
    "    pass\n"
   ]
  },
  {
   "cell_type": "code",
   "execution_count": 2,
   "id": "e2454e6f",
   "metadata": {},
   "outputs": [
    {
     "ename": "TypeError",
     "evalue": "Can't instantiate abstract class computer with abstract method process",
     "output_type": "error",
     "traceback": [
      "\u001b[1;31m---------------------------------------------------------------------------\u001b[0m",
      "\u001b[1;31mTypeError\u001b[0m                                 Traceback (most recent call last)",
      "\u001b[1;32m~\\AppData\\Local\\Temp/ipykernel_10220/2660781116.py\u001b[0m in \u001b[0;36m<module>\u001b[1;34m\u001b[0m\n\u001b[1;32m----> 1\u001b[1;33m \u001b[0mcom\u001b[0m\u001b[1;33m=\u001b[0m\u001b[0mcomputer\u001b[0m\u001b[1;33m(\u001b[0m\u001b[1;33m)\u001b[0m\u001b[1;33m\u001b[0m\u001b[1;33m\u001b[0m\u001b[0m\n\u001b[0m",
      "\u001b[1;31mTypeError\u001b[0m: Can't instantiate abstract class computer with abstract method process"
     ]
    }
   ],
   "source": [
    "com=computer()"
   ]
  },
  {
   "cell_type": "code",
   "execution_count": 3,
   "id": "e93771eb",
   "metadata": {},
   "outputs": [],
   "source": [
    "from abc import ABC, abstractmethod\n",
    "\n",
    "class computer(ABC):\n",
    "    @abstractmethod\n",
    "    def process(self):\n",
    "        pass\n",
    "class laptop(computer): # here no method is defined so it will be abstract clas only\n",
    "    pass"
   ]
  },
  {
   "cell_type": "code",
   "execution_count": 4,
   "id": "f441dcd0",
   "metadata": {},
   "outputs": [
    {
     "ename": "TypeError",
     "evalue": "Can't instantiate abstract class laptop with abstract method process",
     "output_type": "error",
     "traceback": [
      "\u001b[1;31m---------------------------------------------------------------------------\u001b[0m",
      "\u001b[1;31mTypeError\u001b[0m                                 Traceback (most recent call last)",
      "\u001b[1;32m~\\AppData\\Local\\Temp/ipykernel_10220/1530483674.py\u001b[0m in \u001b[0;36m<module>\u001b[1;34m\u001b[0m\n\u001b[1;32m----> 1\u001b[1;33m \u001b[0mcom1\u001b[0m\u001b[1;33m=\u001b[0m\u001b[0mlaptop\u001b[0m\u001b[1;33m(\u001b[0m\u001b[1;33m)\u001b[0m\u001b[1;33m\u001b[0m\u001b[1;33m\u001b[0m\u001b[0m\n\u001b[0m",
      "\u001b[1;31mTypeError\u001b[0m: Can't instantiate abstract class laptop with abstract method process"
     ]
    }
   ],
   "source": [
    "com1=laptop()"
   ]
  },
  {
   "cell_type": "code",
   "execution_count": 5,
   "id": "9ba02da5",
   "metadata": {},
   "outputs": [],
   "source": [
    "from abc import ABC, abstractmethod\n",
    "\n",
    "class computer(ABC):\n",
    "    @abstractmethod\n",
    "    def process(self):\n",
    "        pass\n",
    "class laptop(computer):\n",
    "    def process(self):\n",
    "        print(\"Its running\")"
   ]
  },
  {
   "cell_type": "code",
   "execution_count": 6,
   "id": "a0be022e",
   "metadata": {},
   "outputs": [],
   "source": [
    "com1=laptop()"
   ]
  },
  {
   "cell_type": "code",
   "execution_count": 7,
   "id": "7d2ee988",
   "metadata": {},
   "outputs": [
    {
     "name": "stdout",
     "output_type": "stream",
     "text": [
      "Its running\n"
     ]
    }
   ],
   "source": [
    "com1.process() # imlementing abstract method"
   ]
  },
  {
   "cell_type": "markdown",
   "id": "f16051e5",
   "metadata": {},
   "source": [
    "**Q2** What happens when a class statement's top level contains a basic assignment statement?\n",
    "\n",
    "**Answer**:-"
   ]
  },
  {
   "cell_type": "markdown",
   "id": "b357fa4c",
   "metadata": {},
   "source": [
    "Answer :\n",
    "\n",
    "When a Class statement's top level contains a basic assignment statement, its usually treated as a class attribute or class level variable.\n",
    "\n",
    "Where as assignment statements inside methods are treated as instance attributes or local attributes.\n",
    "\n",
    "When an instance of a class is created a single copy of class attributes is maintained and shared to all instances of class. where as each instance object maintains its own copy of instance variables.\n",
    "\n",
    "Example :"
   ]
  },
  {
   "cell_type": "code",
   "execution_count": 8,
   "id": "478561df",
   "metadata": {},
   "outputs": [],
   "source": [
    "class Person:\n",
    "    species = 'Homesapiens' # class attribute\n",
    "    def __init__(self, name, gender):\n",
    "\n",
    "        self.name = name # instance attributes\n",
    "        self.gender = gender"
   ]
  },
  {
   "cell_type": "markdown",
   "id": "af956382",
   "metadata": {},
   "source": [
    "**Q3** Why does a class need to manually call a superclass's __init__ method?\n",
    "\n",
    "**Answer**:-"
   ]
  },
  {
   "cell_type": "markdown",
   "id": "6fe8536b",
   "metadata": {},
   "source": [
    "Classes are like creating a blueprint for an object. If we want to build a building then we must have the blueprint for that, like how many rooms will be there, its dimensions and many more, so here the actual building is an object and blueprint of the building is a class.\n",
    "\n",
    " *   A Class is a user-defined data-type which has data members and member functions.\n",
    " *   Data members are the data variables and member functions are the functions used to manipulate these variables and together these data members and member functions define the properties and behavior of the objects in a Class.\n",
    " \n",
    "\n",
    "Inheritance allows us to define a class that inherits all the methods and properties from another class. The class which get inherited is called base class or parent class. The class which inherits the other class is called child class or derived class.\n",
    "\n",
    "Constructors are generally used for instantiating an object. The task of constructors is to initialize(assign values) to the data members of the class when an object of the class is created.\n",
    " "
   ]
  },
  {
   "cell_type": "code",
   "execution_count": 13,
   "id": "6fd303b7",
   "metadata": {},
   "outputs": [],
   "source": [
    "class Car: # parent class\n",
    "    def __init__(self,window,door,Engeentype):\n",
    "        self.window=window\n",
    "        self.door=door\n",
    "        self.Engeentype=Engeentype\n",
    "    def driving(self):\n",
    "        print('Car is Used for Driving')\n",
    "# Audi car Inheriting fron car class        \n",
    "class Audi(Car): # child Class\n",
    "    def __init__(self,window,door,Engeentype,Horsepower):\n",
    "        super().__init__(window,door,Engeentype)\n",
    "        self.Horsepower=Horsepower\n",
    "        \n",
    "    def selfdriving(self):\n",
    "        print('It is a self Driving Car')\n",
    "        \n",
    "Audi7=Audi(4,5,'Diesel',200 )"
   ]
  },
  {
   "cell_type": "code",
   "execution_count": 14,
   "id": "ce24ff17",
   "metadata": {},
   "outputs": [
    {
     "name": "stdout",
     "output_type": "stream",
     "text": [
      "200\n",
      "Diesel\n",
      "4\n",
      "Car is Used for Driving\n"
     ]
    }
   ],
   "source": [
    "print(Audi7.Horsepower)\n",
    "print(Audi7.Engeentype)\n",
    "print(Audi7.window)\n",
    "Audi7.driving()"
   ]
  },
  {
   "cell_type": "markdown",
   "id": "8032a128",
   "metadata": {},
   "source": [
    "**Q4** How can you augment, instead of completely replacing, an inherited method?\n",
    "\n",
    "**Answer**:-"
   ]
  },
  {
   "cell_type": "markdown",
   "id": "8482254b",
   "metadata": {},
   "source": [
    "Each method that is inherited from a superclass can be augmented to perform some different action in the new class. If there is no augmentation then the inherited methods will perform as defined in the superclass.\n",
    "\n",
    "An inherited method is augmented simply by creating a new definition for the method in your class definition. \n",
    "\n",
    "**super()** method can be used to augment, instead of completely replacing, an inherited method.\n",
    "\n",
    "Example:-"
   ]
  },
  {
   "cell_type": "code",
   "execution_count": 15,
   "id": "31ff98b1",
   "metadata": {},
   "outputs": [
    {
     "name": "stdout",
     "output_type": "stream",
     "text": [
      "{'name': 'Ramdas', 'gender': 'Male', 'salary': 10000}\n"
     ]
    }
   ],
   "source": [
    "class Person:\n",
    "    def __init__(self, name, gender):\n",
    "        self.name = name\n",
    "        self.gender = gender\n",
    "        \n",
    "class Employee(Person):\n",
    "    def __init__(self,name, gender, salary):\n",
    "        super().__init__(name, gender) \n",
    "        self.salary = salary\n",
    "        \n",
    "emp_1 = Employee('Ramdas','Male', 10000)\n",
    "\n",
    "print(emp_1.__dict__)"
   ]
  },
  {
   "cell_type": "markdown",
   "id": "9c1bec1c",
   "metadata": {},
   "source": [
    "**Q5** How is the local scope of a class different from that of a function?\n",
    "\n",
    "**Answer**:\n",
    "\n",
    "Declaring a variable in a class (outside of a function): all class functions can access it (basically a public variable)\n",
    "\n",
    "Declaring a variable inside a function inside a class: only that function can access it (it's in that function's scope)\n",
    "\n",
    "Declaring a variable with self.(variable name) inside a function inside a class: all class functions can access it\n",
    "\n",
    "**Example**:-"
   ]
  },
  {
   "cell_type": "code",
   "execution_count": 16,
   "id": "c6e2fdec",
   "metadata": {},
   "outputs": [],
   "source": [
    "class Test:\n",
    "    a = None\n",
    "    b = None\n",
    "\n",
    "    def __init__(self, a):\n",
    "        print(self.a)\n",
    "        self.a = a\n",
    "        self._x = 123\n",
    "        self.__y = 123\n",
    "        b = 'meow'\n"
   ]
  },
  {
   "cell_type": "markdown",
   "id": "b9255fa5",
   "metadata": {},
   "source": [
    "At the beginning, a and b are only variables defined for the class itself - accessible via Test.a and Test.b and not specific to any instance."
   ]
  }
 ],
 "metadata": {
  "kernelspec": {
   "display_name": "Python 3 (ipykernel)",
   "language": "python",
   "name": "python3"
  },
  "language_info": {
   "codemirror_mode": {
    "name": "ipython",
    "version": 3
   },
   "file_extension": ".py",
   "mimetype": "text/x-python",
   "name": "python",
   "nbconvert_exporter": "python",
   "pygments_lexer": "ipython3",
   "version": "3.9.7"
  }
 },
 "nbformat": 4,
 "nbformat_minor": 5
}
