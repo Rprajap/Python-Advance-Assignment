{
 "cells": [
  {
   "cell_type": "markdown",
   "id": "6bc1f4fc",
   "metadata": {},
   "source": [
    "**Q1**. Is an assignment operator like += only for show? Is it possible that it would lead to faster results atÃ‚Â theÃ‚Â runtime?\n",
    "\n",
    "**Answer**:\n",
    "\n",
    "It is not for show. It actually adds and assigns the final value to the variable. It is same as the addition operator, there is negligible difference in runtime.\n",
    "\n",
    "**Example**:\n",
    "\n",
    "runtime of a += 5 is slightly less than a = a + 5 but, the difference is really minor."
   ]
  },
  {
   "cell_type": "markdown",
   "id": "53c559e9",
   "metadata": {},
   "source": [
    "**Q2**. What is the smallest number of statements you'd have to write in most programming languages to replace the Python expression a, b = a + b, a?\n",
    "\n",
    "**Answer**:\n",
    "\n",
    "Minimum number of lines required to write above code in other than Python languages  will be 4, two for assigning initial values for variables a and b, and two for reassignment i.e. a = a + b & b = a.\n",
    "\n",
    "**Q3**. In Python, what is the most effective way to set a list of 100 integers to 0?\n",
    "\n",
    "**Answer**:\n",
    "\n",
    "The most effective way to set a list of 100 integers to 0 is :"
   ]
  },
  {
   "cell_type": "code",
   "execution_count": 1,
   "id": "483b3dee",
   "metadata": {},
   "outputs": [
    {
     "name": "stdout",
     "output_type": "stream",
     "text": [
      "[0, 0, 0, 0, 0, 0, 0, 0, 0, 0, 0, 0, 0, 0, 0, 0, 0, 0, 0, 0, 0, 0, 0, 0, 0, 0, 0, 0, 0, 0, 0, 0, 0, 0, 0, 0, 0, 0, 0, 0, 0, 0, 0, 0, 0, 0, 0, 0, 0, 0, 0, 0, 0, 0, 0, 0, 0, 0, 0, 0, 0, 0, 0, 0, 0, 0, 0, 0, 0, 0, 0, 0, 0, 0, 0, 0, 0, 0, 0, 0, 0, 0, 0, 0, 0, 0, 0, 0, 0, 0, 0, 0, 0, 0, 0, 0, 0, 0, 0, 0]\n"
     ]
    }
   ],
   "source": [
    "zero_list = [0 for x in range(100)]\n",
    "print(zero_list)"
   ]
  },
  {
   "cell_type": "markdown",
   "id": "035264aa",
   "metadata": {},
   "source": [
    "**Q4**. What is the most effective way to initialise a list of 99 integers that repeats the sequence 1, 2, 3? S If necessary, show step-by-step instructions on how to accomplish this.\n",
    "\n",
    "**Answer**:-"
   ]
  },
  {
   "cell_type": "code",
   "execution_count": 2,
   "id": "674f759c",
   "metadata": {},
   "outputs": [
    {
     "name": "stdout",
     "output_type": "stream",
     "text": [
      "[1, 2, 3, 1, 2, 3, 1, 2, 3, 1, 2, 3, 1, 2, 3, 1, 2, 3, 1, 2, 3, 1, 2, 3, 1, 2, 3, 1, 2, 3, 1, 2, 3, 1, 2, 3, 1, 2, 3, 1, 2, 3, 1, 2, 3, 1, 2, 3, 1, 2, 3, 1, 2, 3, 1, 2, 3, 1, 2, 3, 1, 2, 3, 1, 2, 3, 1, 2, 3, 1, 2, 3, 1, 2, 3, 1, 2, 3, 1, 2, 3, 1, 2, 3, 1, 2, 3, 1, 2, 3, 1, 2, 3, 1, 2, 3, 1, 2, 3, 1, 2, 3, 1, 2, 3, 1, 2, 3, 1, 2, 3, 1, 2, 3, 1, 2, 3, 1, 2, 3, 1, 2, 3, 1, 2, 3, 1, 2, 3, 1, 2, 3, 1, 2, 3, 1, 2, 3, 1, 2, 3, 1, 2, 3, 1, 2, 3, 1, 2, 3, 1, 2, 3, 1, 2, 3, 1, 2, 3, 1, 2, 3, 1, 2, 3, 1, 2, 3, 1, 2, 3, 1, 2, 3, 1, 2, 3, 1, 2, 3, 1, 2, 3, 1, 2, 3, 1, 2, 3, 1, 2, 3, 1, 2, 3, 1, 2, 3, 1, 2, 3, 1, 2, 3, 1, 2, 3, 1, 2, 3, 1, 2, 3, 1, 2, 3, 1, 2, 3, 1, 2, 3, 1, 2, 3, 1, 2, 3, 1, 2, 3, 1, 2, 3, 1, 2, 3, 1, 2, 3, 1, 2, 3, 1, 2, 3, 1, 2, 3, 1, 2, 3, 1, 2, 3, 1, 2, 3, 1, 2, 3, 1, 2, 3, 1, 2, 3, 1, 2, 3, 1, 2, 3, 1, 2, 3, 1, 2, 3, 1, 2, 3, 1, 2, 3, 1, 2, 3, 1, 2, 3, 1, 2, 3, 1, 2, 3]\n"
     ]
    }
   ],
   "source": [
    "my_list = [1,2,3] * 99\n",
    "\n",
    "print(my_list)"
   ]
  },
  {
   "cell_type": "markdown",
   "id": "602ff3e7",
   "metadata": {},
   "source": [
    "**Q5**. If you're using IDLE to run a Python application, explain how to print a multidimensional list as efficiently?\n",
    "\n",
    "**Answer**:-\n",
    "\n",
    "Multidimensional lists are just lists within lists."
   ]
  },
  {
   "cell_type": "code",
   "execution_count": 5,
   "id": "cf44babc",
   "metadata": {},
   "outputs": [
    {
     "name": "stdout",
     "output_type": "stream",
     "text": [
      "[2, 4, 6, 8, 10]\n",
      "[3, 6, 9, 12, 15]\n",
      "[4, 8, 12, 16, 20]\n"
     ]
    }
   ],
   "source": [
    "a = [[2, 4, 6, 8, 10], [3, 6, 9, 12, 15], [4, 8, 12, 16, 20]]\n",
    "for list in a:\n",
    "    print(list)"
   ]
  },
  {
   "cell_type": "markdown",
   "id": "04aceede",
   "metadata": {},
   "source": [
    "**Q6**. Is it possible to use list comprehension with a string? If so, how can you go about doing it?\n",
    "\n",
    "**Answer**:-\n",
    "\n",
    "List comprehension with string is possible.\n",
    "\n",
    "**Example**:-"
   ]
  },
  {
   "cell_type": "code",
   "execution_count": 6,
   "id": "995344fd",
   "metadata": {},
   "outputs": [
    {
     "name": "stdout",
     "output_type": "stream",
     "text": [
      "['O', 'n', 'e', 'n', 'e', 'u', 'r', 'o', 'n']\n"
     ]
    }
   ],
   "source": [
    "my_list = [i for i in 'Oneneuron']\n",
    "\n",
    "print(my_list)"
   ]
  },
  {
   "cell_type": "markdown",
   "id": "7c0bcef1",
   "metadata": {},
   "source": [
    "**Q7**. From the command line, how do you get support with a user-written Python programme? Is this possible from inside IDLE?\n",
    "\n",
    "**Answer**:-\n",
    "\n",
    "* **Steps for command line**:-\n",
    "\n",
    "\n",
    "* Open command prompt.\n",
    "* Go to the directory containing python program file(.py)\n",
    "* Type \"python file_name.py\", press enter to run the file.\n",
    "\n",
    "\n",
    "* **Steps for python IDLE**:-\n",
    "\n",
    "\n",
    "* Open Python IDLE.\n",
    "* Click on file>open>file_name.py\n",
    "* Press F5 key to run the program."
   ]
  },
  {
   "cell_type": "markdown",
   "id": "e8087c1b",
   "metadata": {},
   "source": [
    "**Q8**. Functions are said to be Ã¢Â€Âœfirst-class objectsÃ¢Â€Â in Python but not in most other languages, such as C++ or Java. What can you do in Python with a function (callable object) that you can't do in C or C++?\n",
    "\n",
    "**Answer**:-\n",
    "\n",
    "The tasks which can be performed with the functions in python are :\n",
    "\n",
    "A function is an instance of the Object type.\n",
    "You can store the function in a variable.\n",
    "You can pass the function as a parameter to another function.\n",
    "You can return the function from a function.\n",
    "You can store them in data structures such as hash tables, lists,"
   ]
  },
  {
   "cell_type": "markdown",
   "id": "2bdcbbcf",
   "metadata": {},
   "source": [
    "**Q9**. How do you distinguish between a wrapper, a wrapped feature, and a decorator?\n",
    "\n",
    "**Answer**:\n",
    "\n",
    "Wrapper is also known as decorator, used to modify the behaviour of function or a class. A wrapped feature is a machine learning algorithm used to find all possible iterations for a perfect fit for a dataset.\n",
    "\n",
    "**Q10**. If a function is a generator function, whatÃ‚Â does it return?\n",
    "\n",
    "**Answer**-:\n",
    "\n",
    "If a function is a generator function, it does not return any values, instead, it return an iterator object, which we can iterate through to get values.\n",
    "\n",
    "**Q11**. What is the one improvement that must be made to a function in order for it to become a generator function in the Python language?\n",
    "\n",
    "**Answer**:-\n",
    "\n",
    "Generator is a written as normal function but uses yield keyword to return values instead of return keyword.\n",
    "\n",
    "Example :"
   ]
  },
  {
   "cell_type": "code",
   "execution_count": 8,
   "id": "059c0520",
   "metadata": {},
   "outputs": [
    {
     "name": "stdout",
     "output_type": "stream",
     "text": [
      "0\n",
      "2\n",
      "4\n",
      "6\n",
      "8\n"
     ]
    }
   ],
   "source": [
    "def even_nos(n):\n",
    "    \n",
    "    for i in range(n):\n",
    "        if i % 2 == 0:\n",
    "            yield i\n",
    "\n",
    "for i in even_nos(10):\n",
    "    print(i)"
   ]
  },
  {
   "cell_type": "markdown",
   "id": "8b812487",
   "metadata": {},
   "source": [
    "**Q12**. Identify at least one benefit of generators.\n",
    "\n",
    "**Answer**:-\n",
    "\n",
    "Time efficient and memory efficient, increases code readability."
   ]
  }
 ],
 "metadata": {
  "kernelspec": {
   "display_name": "Python 3 (ipykernel)",
   "language": "python",
   "name": "python3"
  },
  "language_info": {
   "codemirror_mode": {
    "name": "ipython",
    "version": 3
   },
   "file_extension": ".py",
   "mimetype": "text/x-python",
   "name": "python",
   "nbconvert_exporter": "python",
   "pygments_lexer": "ipython3",
   "version": "3.9.7"
  }
 },
 "nbformat": 4,
 "nbformat_minor": 5
}
