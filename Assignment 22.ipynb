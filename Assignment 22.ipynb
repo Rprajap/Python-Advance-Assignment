{
 "cells": [
  {
   "cell_type": "markdown",
   "id": "5cc6e948",
   "metadata": {},
   "source": [
    "**Q1**. What are the benefits of the built-in array package, if any?\n",
    "\n",
    "**Answer**:-"
   ]
  },
  {
   "cell_type": "code",
   "execution_count": 2,
   "id": "defd3d94",
   "metadata": {},
   "outputs": [
    {
     "data": {
      "text/plain": [
       "'bBuhHiIlLqQfd'"
      ]
     },
     "execution_count": 2,
     "metadata": {},
     "output_type": "execute_result"
    }
   ],
   "source": [
    "import array\n",
    "array.typecodes"
   ]
  },
  {
   "cell_type": "markdown",
   "id": "7929967f",
   "metadata": {},
   "source": [
    "The Array is built-in Python is diffrent from numpy pakage.The most special feature is that it has to be defined with a Type Code. We can list all the available type codes as follows.\n",
    "array.typecodes Each character is corresponding to a specific data type that the array will contain.\n",
    "Python array can only contain elements with a certain type"
   ]
  },
  {
   "cell_type": "markdown",
   "id": "cadb17b1",
   "metadata": {},
   "source": [
    "**Q2**. What are some of the array package's limitations?\n",
    "\n",
    "**Answer**:-\n",
    "\n",
    "The number of elements to be stored in an array should be known in advance. An array is a static structure (which means the array is of fixed size). Once declared the size of the array cannot be modified. The memory which is allocated to it cannot be increased or decreased.\n",
    "\n",
    "Insertion and deletion are quite difficult in an array as the elements are stored in consecutive memory locations and the shifting operation is costly.\n",
    "\n",
    "Allocating more memory than the requirement leads to wastage of memory space and less allocation of memory also leads to a problem."
   ]
  },
  {
   "cell_type": "markdown",
   "id": "0d410e0a",
   "metadata": {},
   "source": [
    "**Q3**. Describe the main differences between the array and numpy packages.\n",
    "\n",
    "**Answer**:-\n",
    "\n",
    "The array package doesn't provide any help with numerical calculation with the items insdie it in number form while NumPy give you a wide variety of numerical operations.\n",
    "\n",
    "An array is a single dimensional entity which hold the numerical data, while numpy can have more than 1 dimension.\n",
    "\n",
    "In case of array, item can be accessed by its index position and it is easy task while in numpy item is accessed by its column and row index, which makes it slightly time taking. Same goes with appending operation.\n",
    "\n",
    "In case of array we do not form a tabular structure, while in numpy it forms a tabular structure."
   ]
  },
  {
   "cell_type": "markdown",
   "id": "868372d4",
   "metadata": {},
   "source": [
    "**Q4**. Explain the distinctions between the empty, ones, and zeros functions.\n",
    "\n",
    "**Answer**:-\n",
    "\n",
    "The distinctions between the empty, ones, and zero functions are as follows :\n",
    "\n",
    "* Empty function : An empty function is a function that does not contain any statement within its body. If you try to write a function definition without any statement in python ,it will return an error. To avoid this, we use pass statement. pass is a special statement in Python that does nothing. It only works as a dummy statement.\n",
    "* Ones : This function returns a new array of given shape and data type, where the element’s value is 1.\n",
    "* Zeros : This function returns a new array of given shape and data type, where the element’s value is 0."
   ]
  },
  {
   "cell_type": "markdown",
   "id": "f137b28d",
   "metadata": {},
   "source": [
    "**Q5**. In the fromfunction function, which is used to construct new arrays, what is the role of the callable argument?\n",
    "\n",
    "**Answer**:-\n",
    "\n",
    "Its function is to execute the function over each coordinate and the resulting array. The function is called with N parameters, where N is the rank of shape. Each parameter represents the coordinates of the array varying along a specific axis.\n",
    "\n",
    "**Q6**. What happens when a numpy array is combined with a single-value operand (a scalar, such as an int or a floating-point value) through addition, as in the expression A + n?\n",
    "\n",
    "**Answer**:\n",
    "\n",
    "If any scaler value such as integer is added to the numpy array then all the elements inside the array will add that value in it.\n",
    "\n",
    "**Example**:-"
   ]
  },
  {
   "cell_type": "code",
   "execution_count": 3,
   "id": "a07b954f",
   "metadata": {},
   "outputs": [
    {
     "name": "stdout",
     "output_type": "stream",
     "text": [
      "[[0 1 2]\n",
      " [3 4 5]\n",
      " [6 7 8]]\n",
      "\n",
      "[[1 2 3]\n",
      " [4 5 6]\n",
      " [7 8 9]]\n"
     ]
    }
   ],
   "source": [
    "import numpy as np\n",
    "a = np.arange(9).reshape(3,3)\n",
    "print(a)\n",
    "print()\n",
    "print(a + 1)"
   ]
  },
  {
   "cell_type": "markdown",
   "id": "5d48ac25",
   "metadata": {},
   "source": [
    "**Q7**. Can array-to-scalar operations use combined operation-assign operators (such as += or *=)? What is the outcome?\n",
    "\n",
    "**Answer**:-\n",
    "\n",
    "It will carry out provided operation on all elements of array.\n",
    "\n",
    "**Example**:-"
   ]
  },
  {
   "cell_type": "code",
   "execution_count": 4,
   "id": "5721e9c7",
   "metadata": {},
   "outputs": [
    {
     "name": "stdout",
     "output_type": "stream",
     "text": [
      "[[0 1 2]\n",
      " [3 4 5]\n",
      " [6 7 8]]\n",
      "[[1 2 3]\n",
      " [4 5 6]\n",
      " [7 8 9]]\n",
      "[[ 2  4  6]\n",
      " [ 8 10 12]\n",
      " [14 16 18]]\n"
     ]
    }
   ],
   "source": [
    "print(a)\n",
    "\n",
    "a+=1\n",
    "print(a)\n",
    "\n",
    "a*=2\n",
    "print(a)"
   ]
  },
  {
   "cell_type": "markdown",
   "id": "19ad72f5",
   "metadata": {},
   "source": [
    "**Q8**. Does a numpy array contain fixed-length strings? What happens if you allocate a longer string to one of these arrays?\n",
    "\n",
    "**Answer**:-\n",
    "\n",
    "Yes, it is possible that we can include a string of fixed length in numpy array. The dtype of any numpy array containing string values is the maximum length of any string present in the array.Once set, it will only be able to store new string having length not more than the maximum length at the time of the creation. If we try to reassign some another string value having length greater than the maximum length of the existing elements, it simply discards all the values beyond the maximum length accept upto those values which are under the limit.\n",
    "\n",
    "**Example**:-"
   ]
  },
  {
   "cell_type": "code",
   "execution_count": 5,
   "id": "1a0e42eb",
   "metadata": {},
   "outputs": [
    {
     "data": {
      "text/plain": [
       "array(['Ineuron', 'OneIneuron', 'TechIneuron'], dtype='<U11')"
      ]
     },
     "execution_count": 5,
     "metadata": {},
     "output_type": "execute_result"
    }
   ],
   "source": [
    "import numpy as np\n",
    "name = np.array(['Ineuron','OneIneuron', 'TechIneuron'])\n",
    "name"
   ]
  },
  {
   "cell_type": "code",
   "execution_count": 6,
   "id": "5ca0770c",
   "metadata": {},
   "outputs": [
    {
     "name": "stdout",
     "output_type": "stream",
     "text": [
      "['Neuron' 'OneIneuron' 'TechIneuron']\n"
     ]
    }
   ],
   "source": [
    "name[name=='Ineuron']='Neuron'\n",
    "print(name)"
   ]
  },
  {
   "cell_type": "markdown",
   "id": "81d01788",
   "metadata": {},
   "source": [
    "**Q9**. What happens when you combine two numpy arrays using an operation like addition (+) or multiplication (*)? What are the conditions for combining two numpy arrays?\n",
    "\n",
    "**Answer**:-\n",
    "\n",
    "It will simply add or multiply element to element at same position.The only requirement which must be met are :\n",
    "\n",
    "* Data type should be same.\n",
    "* Shape of the two matrices must be same.\n",
    "\n",
    "**Q10**. What is the best way to use a Boolean array to mask another array?\n",
    "\n",
    "**Answer**:-\n",
    "\n",
    "The best way to use a Boolean array to mask another array is by Using masked_where of numpy package.\n",
    "\n",
    "**Example**:-"
   ]
  },
  {
   "cell_type": "code",
   "execution_count": 7,
   "id": "6f31fe6f",
   "metadata": {},
   "outputs": [
    {
     "name": "stdout",
     "output_type": "stream",
     "text": [
      "[True, True, masked, masked]\n",
      "1\n"
     ]
    }
   ],
   "source": [
    "y = np.array([True, True, False, True])          \n",
    "x = np.array([1,2,3,4])         \n",
    "m = np.ma.masked_where(x>2,y)  \n",
    "print(list(m))\n",
    "print(m.ndim)"
   ]
  },
  {
   "cell_type": "markdown",
   "id": "af1d0c00",
   "metadata": {},
   "source": [
    "**Q11**. What are three different ways to get the standard deviation of a wide collection of data using both standard Python and its packages? Sort the three of them by how quickly they execute.\n",
    "\n",
    "**Answer**:-\n",
    "\n",
    "Standard deviation can be calculated in amny ways. If wee see the formula of SD, it says std = Square Root of [ Summation of [square of (x-mean)/number of observation]].\n",
    "\n",
    "So this can be achive by:\n",
    "\n",
    "Using math module :\n",
    "\n",
    "**Example**:-"
   ]
  },
  {
   "cell_type": "code",
   "execution_count": 8,
   "id": "cde104da",
   "metadata": {},
   "outputs": [
    {
     "name": "stdout",
     "output_type": "stream",
     "text": [
      "8.0\n"
     ]
    }
   ],
   "source": [
    "import math\n",
    "\n",
    "x = math.sqrt(64)\n",
    "\n",
    "print(x)"
   ]
  },
  {
   "cell_type": "markdown",
   "id": "0555e991",
   "metadata": {},
   "source": [
    "* Using Numpy Array package"
   ]
  },
  {
   "cell_type": "code",
   "execution_count": 10,
   "id": "97d44be1",
   "metadata": {},
   "outputs": [
    {
     "data": {
      "text/plain": [
       "8.0"
      ]
     },
     "execution_count": 10,
     "metadata": {},
     "output_type": "execute_result"
    }
   ],
   "source": [
    "import numpy as np\n",
    "\n",
    "y = np.sqrt(64)\n",
    "y"
   ]
  },
  {
   "cell_type": "code",
   "execution_count": 11,
   "id": "7aafae31",
   "metadata": {},
   "outputs": [
    {
     "name": "stdout",
     "output_type": "stream",
     "text": [
      "8.0\n"
     ]
    }
   ],
   "source": [
    "number = 64\n",
    "square_root = number ** (1/2)\n",
    "print(square_root)"
   ]
  },
  {
   "cell_type": "markdown",
   "id": "9daba399",
   "metadata": {},
   "source": [
    "**Q12**. What is the dimensionality of a Boolean mask-generated array?\n",
    "\n",
    "**Answer**:-\n",
    "\n",
    "It will have same dimensionality as input array."
   ]
  }
 ],
 "metadata": {
  "kernelspec": {
   "display_name": "Python 3 (ipykernel)",
   "language": "python",
   "name": "python3"
  },
  "language_info": {
   "codemirror_mode": {
    "name": "ipython",
    "version": 3
   },
   "file_extension": ".py",
   "mimetype": "text/x-python",
   "name": "python",
   "nbconvert_exporter": "python",
   "pygments_lexer": "ipython3",
   "version": "3.9.7"
  }
 },
 "nbformat": 4,
 "nbformat_minor": 5
}
