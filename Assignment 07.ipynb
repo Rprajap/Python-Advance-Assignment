{
 "cells": [
  {
   "cell_type": "markdown",
   "id": "7c7feb9c",
   "metadata": {},
   "source": [
    "**Q1**. What is the purpose of the try statement?\n",
    "\n",
    "**Answer**:-"
   ]
  },
  {
   "cell_type": "markdown",
   "id": "763f7387",
   "metadata": {},
   "source": [
    "The try statement allows you to define a block of code to be tested for errors while it is being executed\n",
    "\n",
    "**Example**:-"
   ]
  },
  {
   "cell_type": "code",
   "execution_count": 1,
   "id": "142ba6a5",
   "metadata": {},
   "outputs": [
    {
     "name": "stdout",
     "output_type": "stream",
     "text": [
      "division by zero\n"
     ]
    }
   ],
   "source": [
    "try:\n",
    "    print(10/0)\n",
    "except Exception as e:\n",
    "    print(e)"
   ]
  },
  {
   "cell_type": "markdown",
   "id": "403cf51b",
   "metadata": {},
   "source": [
    "**Q2** What are the two most popular try statement variations?\n",
    "\n",
    "**Answer**:-"
   ]
  },
  {
   "cell_type": "markdown",
   "id": "219b0bde",
   "metadata": {},
   "source": [
    "So far we’ve used a try/except and even a try/except/except.\n",
    "\n",
    "There are two other optional segments to a try block: else and finally. Both of these optional blocks will come after the try and the except. Also, there’s nothing stopping you from using both else and finally in a single statement — but keep them in that order if you do.\n",
    "\n",
    "* **Try/Except/Else**:-\n",
    "\n",
    "When attaching an else statement to the end of a try/except, this code will be executed after the try has been completed, but only if no exceptions occur."
   ]
  },
  {
   "cell_type": "code",
   "execution_count": 1,
   "id": "85c9b63c",
   "metadata": {},
   "outputs": [
    {
     "name": "stdout",
     "output_type": "stream",
     "text": [
      "Enter an int: \"Ineuron\"\n",
      "invalid literal for int() with base 10: '\"Ineuron\"'\n",
      "Enter an int: 10\n",
      "Thank you for the integer!\n"
     ]
    }
   ],
   "source": [
    "while True:\n",
    "    try:\n",
    "        num = int(input(\"Enter an int: \"))\n",
    "    except Exception as e:\n",
    "        print(e)\n",
    "    else:\n",
    "        print(\"Thank you for the integer!\")\n",
    "        break"
   ]
  },
  {
   "cell_type": "markdown",
   "id": "962b7981",
   "metadata": {},
   "source": [
    "* **Try/Except/Finally**:-\n",
    "\n",
    "When attaching a finally statement to the end of a try/except, this code will be executed after the try has been completed, regardless of exceptions."
   ]
  },
  {
   "cell_type": "code",
   "execution_count": 3,
   "id": "961c8d28",
   "metadata": {},
   "outputs": [
    {
     "name": "stdout",
     "output_type": "stream",
     "text": [
      "Enter an int: \"TechNeuron\"\n",
      "invalid literal for int() with base 10: '\"TechNeuron\"'\n",
      "Attempt #: 1\n",
      "Enter an int: \"Fsds Batch nov2021\"\n",
      "invalid literal for int() with base 10: '\"Fsds Batch nov2021\"'\n",
      "Attempt #: 2\n",
      "Enter an int: 20\n",
      "Attempt #: 3\n"
     ]
    }
   ],
   "source": [
    "count = 0\n",
    "while True:\n",
    "    try:\n",
    "        num = int(input(\"Enter an int: \"))\n",
    "        break\n",
    "    except Exception as e:\n",
    "        print(e)\n",
    "    finally:\n",
    "        count += 1\n",
    "        print(\"Attempt #:\",count)"
   ]
  },
  {
   "cell_type": "markdown",
   "id": "6de5ef1e",
   "metadata": {},
   "source": [
    "**Q3**. What is the purpose of the raise statement?\n",
    "\n",
    "**Answer**:-"
   ]
  },
  {
   "cell_type": "markdown",
   "id": "ec765685",
   "metadata": {},
   "source": [
    "The raise keyword is used to raise an exception.\n",
    "\n",
    "You can define what kind of error to raise, and the text to print to the user."
   ]
  },
  {
   "cell_type": "code",
   "execution_count": 1,
   "id": "6a293760",
   "metadata": {},
   "outputs": [
    {
     "ename": "Exception",
     "evalue": "Sorry, no numbers below zero",
     "output_type": "error",
     "traceback": [
      "\u001b[1;31m---------------------------------------------------------------------------\u001b[0m",
      "\u001b[1;31mException\u001b[0m                                 Traceback (most recent call last)",
      "\u001b[1;32m~\\AppData\\Local\\Temp/ipykernel_11244/3476426218.py\u001b[0m in \u001b[0;36m<module>\u001b[1;34m\u001b[0m\n\u001b[0;32m      2\u001b[0m \u001b[1;33m\u001b[0m\u001b[0m\n\u001b[0;32m      3\u001b[0m \u001b[1;32mif\u001b[0m \u001b[0mx\u001b[0m \u001b[1;33m<\u001b[0m \u001b[1;36m0\u001b[0m\u001b[1;33m:\u001b[0m\u001b[1;33m\u001b[0m\u001b[1;33m\u001b[0m\u001b[0m\n\u001b[1;32m----> 4\u001b[1;33m     \u001b[1;32mraise\u001b[0m \u001b[0mException\u001b[0m\u001b[1;33m(\u001b[0m\u001b[1;34m\"Sorry, no numbers below zero\"\u001b[0m\u001b[1;33m)\u001b[0m\u001b[1;33m\u001b[0m\u001b[1;33m\u001b[0m\u001b[0m\n\u001b[0m",
      "\u001b[1;31mException\u001b[0m: Sorry, no numbers below zero"
     ]
    }
   ],
   "source": [
    "x = -1\n",
    "\n",
    "if x < 0:\n",
    "    raise Exception(\"Sorry, no numbers below zero\") "
   ]
  },
  {
   "cell_type": "markdown",
   "id": "4e490085",
   "metadata": {},
   "source": [
    "**Q4** What does the assert statement do, and what other statement is it like?\n",
    "\n",
    "**Answer**:-"
   ]
  },
  {
   "cell_type": "markdown",
   "id": "549c4518",
   "metadata": {},
   "source": [
    "The assert keyword is used while debugging a code.\n",
    "\n",
    "The assert keyword lets you test if a condition in your code returns True, if not, the program will raise an AssertionError.\n",
    "A message to be written if the code returns False.\n",
    "\n",
    "**Example**:-"
   ]
  },
  {
   "cell_type": "code",
   "execution_count": 2,
   "id": "4fcd02e7",
   "metadata": {},
   "outputs": [
    {
     "ename": "AssertionError",
     "evalue": "x should be 'Ineuron'",
     "output_type": "error",
     "traceback": [
      "\u001b[1;31m---------------------------------------------------------------------------\u001b[0m",
      "\u001b[1;31mAssertionError\u001b[0m                            Traceback (most recent call last)",
      "\u001b[1;32m~\\AppData\\Local\\Temp/ipykernel_11244/3617284006.py\u001b[0m in \u001b[0;36m<module>\u001b[1;34m\u001b[0m\n\u001b[0;32m      2\u001b[0m \u001b[1;33m\u001b[0m\u001b[0m\n\u001b[0;32m      3\u001b[0m \u001b[1;31m#if condition returns False, AssertionError is raised:\u001b[0m\u001b[1;33m\u001b[0m\u001b[1;33m\u001b[0m\u001b[0m\n\u001b[1;32m----> 4\u001b[1;33m \u001b[1;32massert\u001b[0m \u001b[0mx\u001b[0m \u001b[1;33m==\u001b[0m \u001b[1;34m\"Techneuron\"\u001b[0m\u001b[1;33m,\u001b[0m \u001b[1;34m\"x should be 'Ineuron'\"\u001b[0m\u001b[1;33m\u001b[0m\u001b[1;33m\u001b[0m\u001b[0m\n\u001b[0m",
      "\u001b[1;31mAssertionError\u001b[0m: x should be 'Ineuron'"
     ]
    }
   ],
   "source": [
    "x = \"Ineuron\"\n",
    "\n",
    "#if condition returns False, AssertionError is raised:\n",
    "assert x == \"Techneuron\", \"x should be 'Ineuron'\""
   ]
  },
  {
   "cell_type": "markdown",
   "id": "99300b55",
   "metadata": {},
   "source": [
    "**Q5**. What is the purpose of the with/as argument, and what other statement is it like?\n",
    "\n",
    "**Answer**:-"
   ]
  },
  {
   "cell_type": "markdown",
   "id": "47950c4b",
   "metadata": {},
   "source": [
    "with statement in Python is used in exception handling to make the code cleaner and much more readable. It simplifies the management of common resources like file streams."
   ]
  },
  {
   "cell_type": "code",
   "execution_count": 4,
   "id": "ba24ea03",
   "metadata": {},
   "outputs": [],
   "source": [
    "with open('test', 'x') as file:\n",
    "    file.write('Hello Ineuron !')"
   ]
  }
 ],
 "metadata": {
  "kernelspec": {
   "display_name": "Python 3 (ipykernel)",
   "language": "python",
   "name": "python3"
  },
  "language_info": {
   "codemirror_mode": {
    "name": "ipython",
    "version": 3
   },
   "file_extension": ".py",
   "mimetype": "text/x-python",
   "name": "python",
   "nbconvert_exporter": "python",
   "pygments_lexer": "ipython3",
   "version": "3.9.7"
  }
 },
 "nbformat": 4,
 "nbformat_minor": 5
}
