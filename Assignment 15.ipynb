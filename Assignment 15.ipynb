{
 "cells": [
  {
   "cell_type": "markdown",
   "id": "37b6202b",
   "metadata": {},
   "source": [
    "**Q1**. What are the new features added in Python 3.8 version?\n",
    "\n",
    "**Answer**:-\n",
    "\n",
    "Some New Features Added in Python 3.8 Version are:\n",
    "\n",
    "Walrus Operator: This operator is used to assign and return a value in the same expression. This removes the need for initializing the variable upfront. The major benefit of this is it saves some lines of code. It is also known as The Walrus Operator due to its similarity to the eyes and tusks of a walrus.\n",
    "\n",
    "yield and return statements do not require parentheses to return multiple values.\n",
    "\n",
    "Reversed works with a dictionary. The built-in method reversed() can be used for accessing the elements in the reverse order of insertion\n",
    "\n",
    "Dict comprehensions have been modified so that the key is computed first and the value second.\n",
    "\n",
    "importlib_metadata is a new library added in the PythonÃ¢Â€Â™s standard utility modules, that provides an API for accessing an installed packageÃ¢Â€Â™s metadata, such as its entry points or its top-level name.\n",
    "\n",
    "f-strings now support = , to make string interpolation easy. Python 3.8 allows the use of the above-discussed assignment operator and equal sign (=) inside the f-strings.\n",
    "\n",
    "In the three-argument form of pow(), when the exponent is -1, it calculates the modular multiplicative inverse of the given value\n",
    "\n",
    "The csv.DictReader now returns instances of dictionary instead of a collections.OrderedDict.\n",
    "\n",
    "If you miss a comma in your code such as a = [(1, 2) (3, 4)], instead of throwing TypeError, it displays an informative Syntax warning.\n",
    "\n",
    "Example of Walrus Operator"
   ]
  },
  {
   "cell_type": "code",
   "execution_count": 1,
   "id": "f3287eb0",
   "metadata": {},
   "outputs": [
    {
     "name": "stdout",
     "output_type": "stream",
     "text": [
      "15\n"
     ]
    }
   ],
   "source": [
    "if (sum := 10 + 5) > 10: # its always recommended to use paranthesis with walrus operator\n",
    "    print(sum) #return 15"
   ]
  },
  {
   "cell_type": "code",
   "execution_count": 2,
   "id": "cc228511",
   "metadata": {},
   "outputs": [
    {
     "name": "stdout",
     "output_type": "stream",
     "text": [
      "('Hello', 'Good Morning')\n",
      "(0, 0) (1, 1) (2, 4) (3, 9) (4, 16) \n"
     ]
    }
   ],
   "source": [
    "# Example of yield and return\n",
    "\n",
    "def hello():\n",
    "    return 'Hello','Good Morning'\n",
    "print(hello())\n",
    "def count():\n",
    "    for i in range(5):\n",
    "        yield i,i**2\n",
    "for ele in count():\n",
    "    print(ele, end=\" \")\n",
    "print()"
   ]
  },
  {
   "cell_type": "code",
   "execution_count": 3,
   "id": "5540f505",
   "metadata": {},
   "outputs": [
    {
     "name": "stdout",
     "output_type": "stream",
     "text": [
      "Role:\"Carier transition\"\n",
      "Name:\"Ineuron\"\n"
     ]
    }
   ],
   "source": [
    "# Example of Reversed Support for dict\n",
    "\n",
    "t_dict = {\"Name\" : \"Ineuron\", \"Role\" : \"Carier transition\"}\n",
    "for ele in reversed(t_dict):\n",
    "    print(f'{ele}:\"{t_dict[ele]}\"')"
   ]
  },
  {
   "cell_type": "code",
   "execution_count": 4,
   "id": "7ecaac07",
   "metadata": {},
   "outputs": [
    {
     "name": "stdout",
     "output_type": "stream",
     "text": [
      "The length of string is len_string = 31\n"
     ]
    }
   ],
   "source": [
    "# Example of using = in F-strings\n",
    "\n",
    "len_string = len(\"Ineuron Full Stack Data Science\")\n",
    "print(f'The length of string is {len_string = }')"
   ]
  },
  {
   "cell_type": "code",
   "execution_count": 5,
   "id": "ac25e16d",
   "metadata": {},
   "outputs": [
    {
     "ename": "SyntaxError",
     "evalue": "invalid syntax (Temp/ipykernel_11068/831531897.py, line 4)",
     "output_type": "error",
     "traceback": [
      "\u001b[1;36m  File \u001b[1;32m\"C:\\Users\\Ramdas\\AppData\\Local\\Temp/ipykernel_11068/831531897.py\"\u001b[1;36m, line \u001b[1;32m4\u001b[0m\n\u001b[1;33m    f (sum := 10 + 5) > 10: # its always recommended to use paranthesis with walrus operator\u001b[0m\n\u001b[1;37m                            ^\u001b[0m\n\u001b[1;31mSyntaxError\u001b[0m\u001b[1;31m:\u001b[0m invalid syntax\n"
     ]
    }
   ],
   "source": [
    "# Example of Infomrative syntax instead of synatx error while missing comma.\n",
    "\n",
    "r_list = [(1,2) (3,4)]\n",
    "f (sum := 10 + 5) > 10: # its always recommended to use paranthesis with walrus operator"
   ]
  },
  {
   "cell_type": "markdown",
   "id": "d215d2a5",
   "metadata": {},
   "source": [
    "**Q2**. What is monkey patching in Python?\n",
    "\n",
    "**Answer**:\n",
    "\n",
    "Monkey patching means to dynamic modifications of a class or a module. We can actually change the behavior of code at run time.\n",
    "\n",
    "**Example**:-"
   ]
  },
  {
   "cell_type": "code",
   "execution_count": 6,
   "id": "4de8aee1",
   "metadata": {},
   "outputs": [
    {
     "name": "stdout",
     "output_type": "stream",
     "text": [
      "monkey_f() is being called\n"
     ]
    }
   ],
   "source": [
    "class A:\n",
    "    def func(self):\n",
    "        print(\"func() is being called\")\n",
    "\n",
    "def monkey_f(self):\n",
    "    print(\"monkey_f() is being called\")\n",
    "\n",
    "A.func = monkey_f\n",
    "\n",
    "some_object = A()\n",
    "some_object.func()"
   ]
  },
  {
   "cell_type": "markdown",
   "id": "b9e03c87",
   "metadata": {},
   "source": [
    "**Q3**. What is the difference between a shallow copy and deep copy?\n",
    "\n",
    "**Answer**:-\n",
    "\n",
    "The Differences between a Shallow Copy and deep copy are as follows :\n",
    "\n",
    "* Shallow Copy : When an object is copied using copy(), it is called shallow copy as changes made in copied object will also make corresponding changes in original object, because both the objects will be referencing same address location.\n",
    "* Deep Copy : When an object is copied using deepcopy(), it is called deep copy as changes made in copied object will not make corresponding changes in original object, because both the objects will not be referencing same address location.\n",
    "\n",
    "**Example**:-"
   ]
  },
  {
   "cell_type": "code",
   "execution_count": 7,
   "id": "ff7ead76",
   "metadata": {},
   "outputs": [
    {
     "name": "stdout",
     "output_type": "stream",
     "text": [
      "Original Elements of each List\n",
      "[1, 2, [3, 4], 5, 6]\n",
      "[1, 2, [3, 4], 5, 6]\n",
      "[1, 2, [3, 4], 5, 6]\n",
      "New Elements of each List\n",
      "[1, 2, [3, 4], 5, 20]\n",
      "[10, 2, [3, 4], 5, 6]\n",
      "[1, 2, [3, 4], 5, 20]\n"
     ]
    }
   ],
   "source": [
    "from copy import deepcopy, copy\n",
    "\n",
    "l_one = [1,2,[3,4],5,6]\n",
    "l_two = deepcopy(l_one)\n",
    "l_three = l_one\n",
    "\n",
    "print(f'Original Elements of each List\\n{l_one}\\n{l_two}\\n{l_three}')\n",
    "\n",
    "l_two[0] = 10\n",
    "l_three[-1] = 20\n",
    "\n",
    "print(f'New Elements of each List\\n{l_one}\\n{l_two}\\n{l_three}')"
   ]
  },
  {
   "cell_type": "markdown",
   "id": "1411f211",
   "metadata": {},
   "source": [
    "**Q4**. What is the maximum possible length of an identifier?\n",
    "\n",
    "**Answer**:-\n",
    "\n",
    "The maximum possible length of an identifier is 79 characters.\n",
    "\n",
    "**Q5**. What is generator comprehension?\n",
    "\n",
    "**Answer**:-\n",
    "\n",
    "It is a single line specification for defining a generator in Python.it is absolutely essential to learn this syntax in order to write simple and readable code.\n",
    "\n",
    "**Example**:-"
   ]
  },
  {
   "cell_type": "code",
   "execution_count": 8,
   "id": "71aaab4e",
   "metadata": {},
   "outputs": [
    {
     "name": "stdout",
     "output_type": "stream",
     "text": [
      "[0, 1, 2, 3, 4, 5, 6, 7, 8, 9]\n",
      "<generator object <genexpr> at 0x0000029A04523580>\n",
      "0 2 4 6 8 "
     ]
    }
   ],
   "source": [
    "in_list = [x for x in range(10)] # List Comprehension\n",
    "print(in_list)\n",
    "out_gen = (x for x in in_list if x%2 == 0) # Generator Comprehension\n",
    "print(out_gen) # Returns a Generator Object\n",
    "for ele in out_gen:\n",
    "    print(ele, end=\" \")"
   ]
  }
 ],
 "metadata": {
  "kernelspec": {
   "display_name": "Python 3 (ipykernel)",
   "language": "python",
   "name": "python3"
  },
  "language_info": {
   "codemirror_mode": {
    "name": "ipython",
    "version": 3
   },
   "file_extension": ".py",
   "mimetype": "text/x-python",
   "name": "python",
   "nbconvert_exporter": "python",
   "pygments_lexer": "ipython3",
   "version": "3.9.7"
  }
 },
 "nbformat": 4,
 "nbformat_minor": 5
}
