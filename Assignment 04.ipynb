{
 "cells": [
  {
   "cell_type": "markdown",
   "id": "34c1d929",
   "metadata": {},
   "source": [
    "**Q1** Which two operator overloading methods can you use in your classes to support iteration?\n",
    "\n",
    "**Answer**:-"
   ]
  },
  {
   "cell_type": "markdown",
   "id": "92f1af1b",
   "metadata": {},
   "source": [
    "__iter__ & __next__  are two method can use to support iterain in class\n",
    "\n",
    "The __iter__ returns the iterator object and is implicitly called at the start of loops. The __next__ method returns the next value and is implicitly called at each loop increment. __next__ raises a StopIteration exception when there are no more value to return, which is implicitly captured by looping constructs to stop iterating."
   ]
  },
  {
   "cell_type": "code",
   "execution_count": 1,
   "id": "c13c6cff",
   "metadata": {},
   "outputs": [
    {
     "name": "stdout",
     "output_type": "stream",
     "text": [
      "5\n",
      "6\n",
      "7\n",
      "8\n",
      "9\n",
      "10\n",
      "11\n",
      "12\n",
      "13\n",
      "14\n",
      "15\n"
     ]
    }
   ],
   "source": [
    "class Counter:\n",
    "    def __init__(self, low, high):\n",
    "        self.current = low\n",
    "        self.high = high\n",
    " \n",
    "    def __iter__(self):\n",
    "        return self\n",
    " \n",
    "    def __next__(self):\n",
    "        if self.current > self.high:\n",
    "            raise StopIteration\n",
    "        else:\n",
    "            self.current += 1\n",
    "            return self.current - 1\n",
    " \n",
    " \n",
    "for num in Counter(5, 15):\n",
    "    print(num)"
   ]
  },
  {
   "cell_type": "markdown",
   "id": "01d1342a",
   "metadata": {},
   "source": [
    "**Q2** In what contexts do the two operator overloading methods manage printing?\n",
    "\n",
    "**Answer**:-"
   ]
  },
  {
   "cell_type": "markdown",
   "id": "2dbae9cf",
   "metadata": {},
   "source": [
    "Operator Overloading means giving extended meaning beyond their predefined operational meaning. For example operator + is used to add two integers as well as join two strings and merge two lists. It is achievable because ‘+’ operator is overloaded by int class and str class. "
   ]
  },
  {
   "cell_type": "code",
   "execution_count": 2,
   "id": "866579b9",
   "metadata": {},
   "outputs": [
    {
     "name": "stdout",
     "output_type": "stream",
     "text": [
      "3\n",
      "TechNeuron\n",
      "12\n",
      "IneuronIneuronIneuronIneuron\n"
     ]
    }
   ],
   "source": [
    "print(1 + 2)\n",
    " \n",
    "# concatenate two strings\n",
    "print(\"Tech\"+\"Neuron\")\n",
    " \n",
    "# Product two numbers\n",
    "print(3 * 4)\n",
    " \n",
    "# Repeat the String\n",
    "print(\"Ineuron\"*4)"
   ]
  },
  {
   "cell_type": "markdown",
   "id": "998725b6",
   "metadata": {},
   "source": [
    "**Q3** In a class, how do you intercept slice operations?\n",
    "\n",
    "**Answer**:-"
   ]
  },
  {
   "cell_type": "markdown",
   "id": "02aa883c",
   "metadata": {},
   "source": [
    "The __getitem__ method is used for accessing list items, array elements, dictionary entries etc. slice is a constructor in Python that creates slice object to represent set of indices that the range(start, stop, step) specifies. __getitem__ method can be implement in a class, and the behavior of slicing can be defined inside it.\n",
    "\n",
    "Syntax:\n",
    "\n",
    "__getitem__(slice(start, stop, step))"
   ]
  },
  {
   "cell_type": "markdown",
   "id": "0f409e40",
   "metadata": {},
   "source": [
    "Parameter:\n",
    "\n",
    "* slice() : constructor to create slice object.\n",
    "* start: An integer number specifying start index.It is optional and default is 0.\n",
    "* stop: An integer number specifying end index.\n",
    "* step: An integer number specifying the step of slicing. It is optional and\n",
    "    default is 1."
   ]
  },
  {
   "cell_type": "code",
   "execution_count": 3,
   "id": "e59360fb",
   "metadata": {},
   "outputs": [
    {
     "name": "stdout",
     "output_type": "stream",
     "text": [
      "Te\n"
     ]
    }
   ],
   "source": [
    "sliced ='Techneuron'.__getitem__(slice(0, 2, 1)) \n",
    "print(sliced)"
   ]
  },
  {
   "cell_type": "markdown",
   "id": "6bdea671",
   "metadata": {},
   "source": [
    "**Q4** . In a class, how do you capture in-place addition?\n",
    "\n",
    "**Answer**:-"
   ]
  },
  {
   "cell_type": "markdown",
   "id": "56108b4c",
   "metadata": {},
   "source": [
    "To use the in-place addition operator += on custom objects, one need to define the __iadd__() method (“dunder method”, “magic method”) that takes two arguments self and other, updates the first argument self with the result of the addition, and returns the updated object."
   ]
  },
  {
   "cell_type": "code",
   "execution_count": 4,
   "id": "d2ce08c6",
   "metadata": {},
   "outputs": [
    {
     "name": "stdout",
     "output_type": "stream",
     "text": [
      "42\n"
     ]
    }
   ],
   "source": [
    "class Data:\n",
    "\n",
    "    def __init__(self, data):\n",
    "        self.data = data\n",
    "\n",
    "    def __iadd__(self, other):\n",
    "        self.data += other.data\n",
    "        return self\n",
    "\n",
    "x = Data(40)\n",
    "y = Data(2)\n",
    "\n",
    "x += y\n",
    "print(x.data)"
   ]
  },
  {
   "cell_type": "markdown",
   "id": "e5fe8b4f",
   "metadata": {},
   "source": [
    "**Q5** When is it appropriate to use operator overloading?\n",
    "\n",
    "**Answer**:-"
   ]
  },
  {
   "cell_type": "markdown",
   "id": "d1db184a",
   "metadata": {},
   "source": [
    "Operator Overloading means giving extended meaning beyond their predefined operational meaning. For example operator + is used to add two integers as well as join two strings and merge two lists. It is achievable because ‘+’ operator is overloaded by int class and str class. You might have noticed that the same built-in operator or function shows different behavior for objects of different classes, this is called Operator Overloading.\n",
    "\n",
    "\n",
    "\n",
    "Consider that we have two objects which are a physical representation of a class (user-defined data type) and we have to add two objects with binary ‘+’ operator it throws an error, because compiler don’t know how to add two objects. So we define a method for an operator and that process is called operator overloading. We can overload all existing operators but we can’t create a new operator. To perform operator overloading, Python provides some special function or magic function that is automatically invoked when it is associated with that particular operator. For example, when we use + operator, the magic method __add__ is automatically invoked in which the operation for + operator is defined."
   ]
  },
  {
   "cell_type": "code",
   "execution_count": 5,
   "id": "aa3f208f",
   "metadata": {},
   "outputs": [
    {
     "name": "stdout",
     "output_type": "stream",
     "text": [
      "Total Number of Courses -> TechneuronOneneuron\n"
     ]
    }
   ],
   "source": [
    "class Ineuron:\n",
    "    def __init__(self, fsds):\n",
    "        self.fsds = fsds\n",
    "        \n",
    "    def __add__(self,other):\n",
    "        return self.fsds+other.fsds\n",
    "    \n",
    "a1 = Ineuron('Techneuron')\n",
    "a2 = Ineuron('Oneneuron')\n",
    "\n",
    "print(f'Total Number of Courses -> {a1 + a2}')"
   ]
  }
 ],
 "metadata": {
  "kernelspec": {
   "display_name": "Python 3 (ipykernel)",
   "language": "python",
   "name": "python3"
  },
  "language_info": {
   "codemirror_mode": {
    "name": "ipython",
    "version": 3
   },
   "file_extension": ".py",
   "mimetype": "text/x-python",
   "name": "python",
   "nbconvert_exporter": "python",
   "pygments_lexer": "ipython3",
   "version": "3.9.7"
  }
 },
 "nbformat": 4,
 "nbformat_minor": 5
}
