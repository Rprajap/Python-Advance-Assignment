{
 "cells": [
  {
   "cell_type": "markdown",
   "id": "e7037ba4",
   "metadata": {},
   "source": [
    "**Q1**. What is the relationship between classes and modules?\n",
    "\n",
    "**Answer**:-"
   ]
  },
  {
   "cell_type": "markdown",
   "id": "05693149",
   "metadata": {},
   "source": [
    "So a module in python is simply a way to organize the code, and it contains either python classes or just functions. If you need those classes or functions in your project, you just import them. For instance, the math module in python contains just a bunch of functions, and you just call those needed\n",
    "\n",
    "classs is collection of method available in it & Module is collection of classes."
   ]
  },
  {
   "cell_type": "markdown",
   "id": "e98e8d41",
   "metadata": {},
   "source": [
    "**Q2**. How do you make instances and classes?\n",
    "\n",
    "**Answer**:-"
   ]
  },
  {
   "cell_type": "markdown",
   "id": "54e2d478",
   "metadata": {},
   "source": [
    "Class is defined with the Class statement.The first line of class statement is header,and it specify name of class being defined\n",
    "\n",
    "When a def appears inside a class, it is usually known as a method. It automatically receives a special first argument, self, that provides a handle back to the instance to be processed. Methods with two underscores at the start and end of names are special methods.\n",
    "\n",
    "The __init__() method is called immediately after an instance of the class is created. It would be tempting to call this the constructor of the class. It's really tempting, because it looks like a C++ constructor, and by convention, the __init__() method is the first method defined for the class. It appears to be acting like a constructor because it's the first piece of code executed in a newly created instance of the class. However, it's not like a constructor, because the object has already been constructed by the time the __init()__ method is called, and we already have a valid reference to the new instance of the class.\n",
    "The first parameter is self as  nonstatic methods. But the self is always explicit in Python to make attribute access more obvious."
   ]
  },
  {
   "cell_type": "markdown",
   "id": "bd5ac9d0",
   "metadata": {},
   "source": [
    "**Q3**. Where and how should be class attributes created?\n",
    "\n",
    "**Answer**:-"
   ]
  },
  {
   "cell_type": "markdown",
   "id": "1fa0c5da",
   "metadata": {},
   "source": [
    "Class attributes are attributes which are owned by the class itself. They will be shared by all the instances of the class. Therefore they have the same value for every instance. We define class attributes outside all the methods, usually they are placed at the top, right below the class header.\n",
    "e.g."
   ]
  },
  {
   "cell_type": "code",
   "execution_count": 2,
   "id": "5ed4e3d0",
   "metadata": {},
   "outputs": [
    {
     "name": "stdout",
     "output_type": "stream",
     "text": [
      "I am a class attribute!\n",
      "I am a class attribute!\n"
     ]
    }
   ],
   "source": [
    "class A:\n",
    "    a = \"I am a class attribute!\"\n",
    "x = A()\n",
    "y = A()\n",
    "print(x.a)\n",
    "print(y.a)"
   ]
  },
  {
   "cell_type": "markdown",
   "id": "1463267c",
   "metadata": {},
   "source": [
    "**Q4**. Where and how are instance attributes created?\n",
    "\n",
    "**Answer**:-"
   ]
  },
  {
   "cell_type": "markdown",
   "id": "05b17e47",
   "metadata": {},
   "source": [
    "An instance attribute is a Python variable belonging to only one object. It is only accessible in the scope of the object and it is defined inside the constructor function of a class. For example, __init__(self,..)."
   ]
  },
  {
   "cell_type": "markdown",
   "id": "0fb526e7",
   "metadata": {},
   "source": [
    "**Q5**. What does the term \"self\" in a Python class mean?\n",
    "\n",
    "**Answer**:-"
   ]
  },
  {
   "cell_type": "markdown",
   "id": "51b6d41f",
   "metadata": {},
   "source": [
    "The self parameter is a reference to the current instance of the class, and is used to access variables that belongs to the class.\n",
    "\n",
    "It does not have to be named self , you can call it whatever you like, but it has to be the first parameter of any function in the class:"
   ]
  },
  {
   "cell_type": "markdown",
   "id": "61db4e69",
   "metadata": {},
   "source": [
    "**Q6**. How does a Python class handle operator overloading?\n",
    "\n",
    "**Answer**:-"
   ]
  },
  {
   "cell_type": "markdown",
   "id": "b9bdb835",
   "metadata": {},
   "source": [
    "Suppose the user has two objects which are the physical representation of a user-defined data type class. The user has to add two objects using the \"+\" operator, and it gives an error. This is because the compiler does not know how to add two objects. So, the user has to define the function for using the operator, and that process is known as \"operator overloading\". The user can overload all the existing operators by they cannot create any new operator. Python provides some special functions, or we can say magic functions for performing operator overloading, which is automatically invoked when it is associated with that operator. Such as, when the user uses the \"+\" operator, the magic function __add__ will automatically invoke in the command where the \"+\" operator will be defined.\n",
    "\n",
    "Operator \tMagic Function\n",
    "\n",
    "|+ \t|:-  __add__(self, other)|\n",
    "\n",
    "|-|:-  \t__sub__(self, other)|\n",
    "\n",
    "|*|:-  \t__mul__(self, other)|\n",
    "\n",
    "|/|:-  \t__truediv__(self, other)|\n",
    "\n",
    "|//|:- \t__floordiv__(self, other)|\n",
    "\n",
    "|%|:- \t__mod__(self, other)|\n",
    "\n",
    "|** \t__pow__(self, other)|\n",
    "\n",
    "|>>|:- \t__rshift__(self, other)|\n",
    "\n",
    "|<< \t__lshift__(self, other)|\n",
    "\n",
    "|&|:- \t__and__(self, other)|\n",
    "\n",
    "||:- \t__or__(self, other)|\n",
    "\n",
    "|^|:- \t__xor__(self, other)|\n"
   ]
  },
  {
   "cell_type": "markdown",
   "id": "be13758d",
   "metadata": {},
   "source": [
    "**Q7**. When do you consider allowing operator overloading of your classes?\n",
    "\n",
    "**Answer**:-"
   ]
  },
  {
   "cell_type": "markdown",
   "id": "3cfbb92e",
   "metadata": {},
   "source": [
    "when we want Class that allows the same operator to have different meaning according to the context that is when we want the same operator behaves differently with different types. For example, the + operator will perform arithmetic addition on two numbers, merge two lists, or concatenate two strings,then we allow overloading in Class."
   ]
  },
  {
   "cell_type": "markdown",
   "id": "16d12ff0",
   "metadata": {},
   "source": [
    "**Q8**. What is the most popular form of operator overloading?\n",
    "\n",
    "**Answer**:-"
   ]
  },
  {
   "cell_type": "markdown",
   "id": "9ddedb86",
   "metadata": {},
   "source": [
    "A very popular and convenient example of overloading is the Addition (+) operator.\n",
    "\n",
    "Just think how the ‘+’ operator operates on two numbers and the same operator operates on two strings. It performs “Addition” on numbers whereas it performs “Concatenation” on strings.\n",
    "\n",
    "Operators in Python work for built-in classes, like int, str, list, etc. But you can extend their operability such that they work on objects of user-defined classes too"
   ]
  },
  {
   "cell_type": "markdown",
   "id": "18812a9c",
   "metadata": {},
   "source": [
    "**Q9**. What are the two most important concepts to grasp in order to comprehend Python OOP code?\n",
    "\n",
    "**Answer**:-"
   ]
  },
  {
   "cell_type": "markdown",
   "id": "c172ce91",
   "metadata": {},
   "source": [
    "Everything in Python is an object and every object has a type. These types are declared and defined using classes. Thus, classes can be considered as the heart of OOP.\n",
    "\n",
    "In order to develop robust and well-designed software products with Python, it is essential to obtain a comprehensive understanding of OOP. In this article, we will elaborate on two key concepts of OOP which are inheritance and polymorphism."
   ]
  }
 ],
 "metadata": {
  "kernelspec": {
   "display_name": "Python 3 (ipykernel)",
   "language": "python",
   "name": "python3"
  },
  "language_info": {
   "codemirror_mode": {
    "name": "ipython",
    "version": 3
   },
   "file_extension": ".py",
   "mimetype": "text/x-python",
   "name": "python",
   "nbconvert_exporter": "python",
   "pygments_lexer": "ipython3",
   "version": "3.9.7"
  }
 },
 "nbformat": 4,
 "nbformat_minor": 5
}
