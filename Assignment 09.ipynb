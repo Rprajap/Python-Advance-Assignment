{
 "cells": [
  {
   "cell_type": "markdown",
   "id": "a15ad2c6",
   "metadata": {},
   "source": [
    "**Q1**. In Python 3.X, what are the names and functions of string object types?\n",
    "\n",
    "**Example**:-"
   ]
  },
  {
   "cell_type": "markdown",
   "id": "03214031",
   "metadata": {},
   "source": [
    "The below functions are used to change the case of the strings.\n",
    "\n",
    "* lower(): Converts all uppercase characters in a string into lowercase\n",
    "* upper(): Converts all lowercase characters in a string into uppercase\n",
    "* title(): Convert string to title case\n",
    "\n",
    "## Table of Python String Methods"
   ]
  },
  {
   "cell_type": "markdown",
   "id": "459acd73",
   "metadata": {},
   "source": [
    "capitalize():- \tConverts the first character of the string to a capital (uppercase) letter\n",
    "\n",
    "casefold():- \tImplements caseless string matching\n",
    "\n",
    "center():- \tPad the string with the specified character.\n",
    "\n",
    "count():-  \tReturns the number of occurrences of a substring in the string.\n",
    "\n",
    "encode():- \tEncodes strings with the specified encoded scheme\n",
    "\n",
    "endswith():- \tReturns “True” if a string ends with the given suffix\n",
    "\n",
    "expandtabs():-\tSpecifies the amount of space to be substituted with the “\\t” symbol in the string\n",
    "\n",
    "find():-\tReturns the lowest index of the substring if it is found\n",
    "\n",
    "\n",
    "format():- \tFormats the string for printing it to console\n",
    "\n",
    "index():- \tReturns the position of the first occurrence of a substring in a string\n",
    "\n",
    "isnumeric():-\tReturns “True” if all characters in the string are numeric characters\n",
    "\n",
    "isprintable():- \tReturns “True” if all characters in the string are printable or the string is empty\n",
    "\n",
    "isspace():- \tReturns “True” if all characters in the string are whitespace characters\n",
    "\n",
    "istitle():- \tReturns “True” if the string is a title cased string\n",
    "\n",
    "isupper():- \tChecks if all characters in the string are uppercase\n",
    "\n",
    "join():- \tReturns a concatenated String\n",
    "\n",
    "ljust():- \tLeft aligns the string according to the width specified\n",
    "\n",
    "lower():- \tConverts all uppercase characters in a string into lowercase\n",
    "\n",
    "lstrip():- \tReturns the string with leading characters removed\n",
    "\n",
    "maketrans():- \t Returns a translation table\n",
    "\n",
    "partition():- \tSplits the string at the first occurrence of the separator \n",
    "\n",
    "replace():- \tReplaces all occurrences of a substring with another substring\n",
    "\n",
    "rfind():- \tReturns the highest index of the substring\n",
    "\n",
    "rindex():- \tReturns the highest index of the substring inside the string\n",
    "\n",
    "rjust():- \tRight aligns the string according to the width specified\n",
    "\n",
    "rpartition():- \tSplit the given string into three parts\n",
    "\n",
    "rsplit():- \tSplit the string from the right by the specified separator\n",
    "\n",
    "rstrip():- \tRemoves trailing characters\n",
    "\n",
    "splitlines():- \tSplit the lines at line boundaries\n",
    "\n",
    "startswith():- \tReturns “True” if a string starts with the given prefix\n",
    "\n",
    "strip():- \tReturns the string with both leading and trailing characters\n",
    "\n",
    "swapcase():- \tConverts all uppercase characters to lowercase and vice \n",
    "versa\n",
    "title():- \tConvert string to title case\n",
    "\n",
    "translate():- \tModify string according to given translation mappings\n",
    "\n",
    "upper():- \tConverts all lowercase characters in a string into uppercase\n",
    "\n",
    "zfill():- \tReturns a copy of the string with ‘0’ characters padded to the left side of the string"
   ]
  },
  {
   "cell_type": "markdown",
   "id": "5ab3f897",
   "metadata": {},
   "source": [
    "**Q2**. How do the string forms in Python 3.X vary in terms of operations?\n",
    "\n",
    "**Answer**:-"
   ]
  },
  {
   "cell_type": "markdown",
   "id": "63659c8e",
   "metadata": {},
   "source": [
    "In Python 2, strings are stored as ASCII by default whereas, in Python 3, strings are stored as UNICODE."
   ]
  },
  {
   "cell_type": "markdown",
   "id": "2b602d4e",
   "metadata": {},
   "source": [
    "**Q3**. In 3.X, how do you put non-ASCII Unicode characters in a string?\n",
    "\n",
    "**Answer**:-"
   ]
  },
  {
   "cell_type": "markdown",
   "id": "69c4a2d1",
   "metadata": {},
   "source": [
    "As we know, there are only 127 ASCII characters in ascii table. It stores symbols, letters, whitespace characters, non printable characters, which are very less. So Python 3 has adopted unicode encoding of strings. for non ASCII u can get any value more than 127.\n",
    "\n",
    "**Example**:-"
   ]
  },
  {
   "cell_type": "code",
   "execution_count": 1,
   "id": "7294e594",
   "metadata": {},
   "outputs": [
    {
     "name": "stdout",
     "output_type": "stream",
     "text": [
      "Ineuron©\n"
     ]
    }
   ],
   "source": [
    "p = 'Ineuron'\n",
    "\n",
    "p += chr(128)+chr(169)\n",
    "\n",
    "print(p)"
   ]
  },
  {
   "cell_type": "markdown",
   "id": "773f9f89",
   "metadata": {},
   "source": [
    "**Q4**. In Python 3.X, what are the key differences between text-mode and binary-mode files?\n",
    "\n",
    "**Answer**:-"
   ]
  },
  {
   "cell_type": "markdown",
   "id": "7a62c199",
   "metadata": {},
   "source": [
    "Binary files are files which stores data in binary format.and the extension of binary files is .bin.when we talk about text files they store data in the form of alphabets,numbers,special symbols.the extension of text files is .txt "
   ]
  },
  {
   "cell_type": "markdown",
   "id": "ab74fce0",
   "metadata": {},
   "source": [
    "**Q5**. How can you interpret a Unicode text file containing text encoded in a different encoding than your platform's default?\n",
    "\n",
    "**Answer**:-"
   ]
  },
  {
   "cell_type": "markdown",
   "id": "ad26032b",
   "metadata": {},
   "source": [
    "**decode()** is a method specified in Strings in Python 2.\n",
    "This method is used to convert from one encoding scheme, in which argument string is encoded to the desired encoding scheme. This works opposite to the encode. It accepts the encoding of the encoding string to decode it and returns the original string."
   ]
  },
  {
   "cell_type": "markdown",
   "id": "ce6bf740",
   "metadata": {},
   "source": [
    "**Q6**. What is the best way to make a Unicode text file in a particular encoding format?\n",
    "\n",
    "**Answer**:\n",
    "\n",
    "Use str.encode() and file.write() to make a Unicode text file in a particular encoding format, default encoding format is UTF-18.\n",
    "\n",
    "* str.encode(encoding) with encoding set to utf8 to encode str.\n",
    "* open(file, mode) to open a file with mode set to wb . wb writes to files in binary mode & preserves UTF-8format.\n",
    "* file.write(data) to write data to the file.\n",
    "\n",
    "**Example**:"
   ]
  },
  {
   "cell_type": "code",
   "execution_count": 3,
   "id": "93316a1e",
   "metadata": {},
   "outputs": [
    {
     "name": "stdout",
     "output_type": "stream",
     "text": [
      "b'\\xd1\\x83\\xd0\\xbb\\xd1\\x8b\\xd0\\xb1\\xd0\\xb0\\xd1\\x82\\xd1\\x8c\\xd1\\x81\\xd1\\x8f \\xd0\\x92\\xd0\\xbb\\xd0\\xb0\\xd0\\xb4\\xd0\\xb8\\xd0\\xbc\\xd0\\xb8\\xd1\\x80 \\xd0\\x9f\\xd1\\x83\\xd1\\x82\\xd0\\xb8\\xd0\\xbd'\n",
      "\n",
      "b'\\xd1\\x83\\xd0\\xbb\\xd1\\x8b\\xd0\\xb1\\xd0\\xb0\\xd1\\x82\\xd1\\x8c\\xd1\\x81\\xd1\\x8f \\xd0\\x92\\xd0\\xbb\\xd0\\xb0\\xd0\\xb4\\xd0\\xb8\\xd0\\xbc\\xd0\\xb8\\xd1\\x80 \\xd0\\x9f\\xd1\\x83\\xd1\\x82\\xd0\\xb8\\xd0\\xbd'\n"
     ]
    }
   ],
   "source": [
    "unicode_text = u\"улыбаться Владимир Путин\"\n",
    "encoded_unicode_text = unicode_text.encode(\"utf-8\")\n",
    "print(encoded_unicode_text,end=\"\\n\\n\")\n",
    "\n",
    "w_file = open(\"w_file.txt\",\"wb\")\n",
    "w_file.write(encoded_unicode_text)\n",
    "w_file.close()\n",
    "\n",
    "r_file = open(\"w_file.txt\",\"rb\")\n",
    "data = r_file.read()\n",
    "print(data)"
   ]
  },
  {
   "cell_type": "markdown",
   "id": "06eb1a91",
   "metadata": {},
   "source": [
    "**Q7**. What qualifies ASCII text as a form of Unicode text?\n",
    "\n",
    "**Answer**:-\n",
    "\n",
    "UTF-8 encodes each of these characters with a single byte, any ASCII text is also a UTF-8 text. Unicode is a superset of ASCII."
   ]
  },
  {
   "cell_type": "markdown",
   "id": "b46627cd",
   "metadata": {},
   "source": [
    "**Q8**. How much of an effect does the change in string types in Python 3.X have on your code?\n",
    "\n",
    "**Answer**:-\n",
    "\n",
    "In Python 3.X and later, there is only one string type that is unicode. So no effect on the code."
   ]
  }
 ],
 "metadata": {
  "kernelspec": {
   "display_name": "Python 3 (ipykernel)",
   "language": "python",
   "name": "python3"
  },
  "language_info": {
   "codemirror_mode": {
    "name": "ipython",
    "version": 3
   },
   "file_extension": ".py",
   "mimetype": "text/x-python",
   "name": "python",
   "nbconvert_exporter": "python",
   "pygments_lexer": "ipython3",
   "version": "3.9.7"
  }
 },
 "nbformat": 4,
 "nbformat_minor": 5
}
