{
 "cells": [
  {
   "cell_type": "markdown",
   "id": "8aea3731",
   "metadata": {},
   "source": [
    "Q1. What is the meaning of multiple inheritance?\n",
    "\n",
    "**Answer**:-"
   ]
  },
  {
   "cell_type": "markdown",
   "id": "d93ed10d",
   "metadata": {},
   "source": [
    "Inheritance : Inheritance allows us to define a class that inherits all the methods and properties from another class. The Parent class is the class being inherited from, also called base class. The Child class is the class that inherits from another class, also called derived class.\n",
    "\n",
    "Multiple Inheritance : Multiple inheritance is a feature of some object-oriented computer programming languages in which an object or class can inherit characteristics and features from more than one parent object or the parent class .\n"
   ]
  },
  {
   "cell_type": "code",
   "execution_count": 1,
   "id": "3f862ccd",
   "metadata": {},
   "outputs": [
    {
     "name": "stdout",
     "output_type": "stream",
     "text": [
      "Full Stack Data Science\n",
      "Machile Learning\n"
     ]
    }
   ],
   "source": [
    "# Multiple Inheritance using two classes:\n",
    "class TechNeuron():\n",
    "\n",
    "    def fsds(self):\n",
    "\n",
    "        print(\"Full Stack Data Science\")\n",
    "\n",
    "class Oneneuron():\n",
    "\n",
    "    def Ml(self):\n",
    "\n",
    "        print(\"Machile Learning\")\n",
    "\n",
    "class Ineuron(TechNeuron, Oneneuron):\n",
    "\n",
    "    def All_course(self):\n",
    "\n",
    "        print(\"Entire University available in ineuron\")\n",
    "\n",
    "c = Ineuron()\n",
    "c.fsds()\n",
    "c.Ml()"
   ]
  },
  {
   "cell_type": "markdown",
   "id": "ba62171f",
   "metadata": {},
   "source": [
    "Q2. What is the concept of delegation?\n",
    "\n",
    "**Answer**:-"
   ]
  },
  {
   "cell_type": "markdown",
   "id": "ad2f2084",
   "metadata": {},
   "source": [
    "The delegation pattern is an object-oriented design pattern that allows object composition to achieve the same code reuse as inheritance.\n",
    "\n",
    "Delegation is an object oriented technique (also called a design pattern). Let's say you have an object x and want to change the behaviour of just one of its methods. You can create a new class that provides a new implementation of the method you're interested in changing and delegates all other methods to the corresponding method of x.\n",
    "\n",
    "Python programmers can easily implement delegation. For example, the following class implements a class that behaves like a file but converts all written data to uppercase: "
   ]
  },
  {
   "cell_type": "code",
   "execution_count": 2,
   "id": "c397e349",
   "metadata": {},
   "outputs": [],
   "source": [
    "class UpperOut:\n",
    "\n",
    "    def __init__(self, outfile):\n",
    "        self._outfile = outfile\n",
    "\n",
    "    def write(self, s):\n",
    "        self._outfile.write(s.upper())\n",
    "\n",
    "    def __getattr__(self, name):\n",
    "        return getattr(self._outfile, name) "
   ]
  },
  {
   "cell_type": "markdown",
   "id": "2f122cfd",
   "metadata": {},
   "source": [
    "Here the UpperOut class redefines the write() method to convert the argument string to uppercase before calling the underlying self.__outfile.write() method. All other methods are delegated to the underlying self.__outfile object. The delegation is accomplished via the __getattr__ method"
   ]
  },
  {
   "cell_type": "markdown",
   "id": "d53dc918",
   "metadata": {},
   "source": [
    "Q3. What is the concept of composition?\n",
    "\n",
    "**Answer**:-"
   ]
  },
  {
   "cell_type": "markdown",
   "id": "854862d9",
   "metadata": {},
   "source": [
    "It is one of the fundamental concepts of Object-Oriented Programming. In this concept, we will describe a class that references to one or more objects of other classes as an Instance variable. Here, by using the class name or by creating the object we can access the members of one class inside another class. It enables creating complex types by combining objects of different classes. It means that a class Composite can contain an object of another class Component. "
   ]
  },
  {
   "cell_type": "code",
   "execution_count": 3,
   "id": "693c602c",
   "metadata": {},
   "outputs": [
    {
     "name": "stdout",
     "output_type": "stream",
     "text": [
      "Component class object created...\n",
      "Composite class object also created...\n",
      "Composite class m2() method executed...\n",
      "Component class m1() method executed...\n"
     ]
    }
   ],
   "source": [
    "class Component:\n",
    "  \n",
    "   # composite class constructor\n",
    "    def __init__(self):\n",
    "        print('Component class object created...')\n",
    "  \n",
    "    # composite class instance method\n",
    "    def m1(self):\n",
    "        print('Component class m1() method executed...')\n",
    "  \n",
    "  \n",
    "class Composite:\n",
    "  \n",
    "    # composite class constructor\n",
    "    def __init__(self):\n",
    "  \n",
    "        # creating object of component class\n",
    "        self.obj1 = Component()\n",
    "          \n",
    "        print('Composite class object also created...')\n",
    "  \n",
    "     # composite class instance method\n",
    "    def m2(self):\n",
    "        \n",
    "        print('Composite class m2() method executed...')\n",
    "  \n",
    "        # calling m1() method of component class\n",
    "        self.obj1.m1()\n",
    "  \n",
    "  \n",
    "# creating object of composite class\n",
    "obj2 = Composite()\n",
    "  \n",
    "# calling m2() method of composite class\n",
    "obj2.m2()"
   ]
  },
  {
   "cell_type": "markdown",
   "id": "30bf9fc7",
   "metadata": {},
   "source": [
    "*    In the above example, we created two classes Composite and Component to show the Has-A Relation among them.\n",
    "* In the Component class, we have one constructor and an instance method m1().\n",
    "* Similarly,  in Composite class, we have one constructor in which we created an object of Component Class. Whenever we create an object of Composite Class, the object of the Component class is automatically created.\n",
    "*   Now in m2() method of Composite class we are calling m1() method of Component Class using instance variable obj1 in which reference of Component Class is stored.\n",
    "* Now, whenever we call m2() method of Composite Class, automatically m1() method of Component Class will be called."
   ]
  },
  {
   "cell_type": "markdown",
   "id": "3615b026",
   "metadata": {},
   "source": [
    "Q4. What are bound methods and how do we use them?\n",
    "\n",
    "**Answer**:-"
   ]
  },
  {
   "cell_type": "markdown",
   "id": "6df2d875",
   "metadata": {},
   "source": [
    "A bound method is the one which is dependent on the instance of the class as the first argument. It passes the instance as the first argument which is used to access the variables and functions. all functions in the class are by default bound methods.\n",
    "\n"
   ]
  },
  {
   "cell_type": "code",
   "execution_count": 4,
   "id": "b91a1ef8",
   "metadata": {},
   "outputs": [
    {
     "name": "stdout",
     "output_type": "stream",
     "text": [
      "<bound method A.func of <__main__.A object at 0x00000238F4901400>>\n"
     ]
    }
   ],
   "source": [
    "#Python code to demonstrate\n",
    "# use of bound methods\n",
    "  \n",
    "class A:\n",
    "  \n",
    "    def func(self, arg):\n",
    "        self.arg = arg\n",
    "        print(\"Value of arg = \", arg)\n",
    "  \n",
    "  \n",
    "# Creating an instance\n",
    "obj = A()  \n",
    "  \n",
    "# bound method\n",
    "print(obj.func)"
   ]
  },
  {
   "cell_type": "markdown",
   "id": "675338ab",
   "metadata": {},
   "source": [
    "Q5. What is the purpose of pseudo private attributes?\n",
    "\n",
    "**Answer**:-"
   ]
  },
  {
   "cell_type": "markdown",
   "id": "b2cb99e9",
   "metadata": {},
   "source": [
    "In Python, there is no concept of \"private\" as such.\\ When naming properties and methods at the level, some special processing is actually done to the name, making it inaccessible to the outside world.\n",
    "\n",
    "Exampple :"
   ]
  },
  {
   "cell_type": "code",
   "execution_count": 5,
   "id": "e6279247",
   "metadata": {},
   "outputs": [
    {
     "name": "stdout",
     "output_type": "stream",
     "text": [
      "1\n",
      "2\n",
      "4\n"
     ]
    }
   ],
   "source": [
    "class Test:\n",
    "    def __init__(self, a, b, c, d):\n",
    "        self.__a = a # __ means pseudo private variable\n",
    "        self.b = b\n",
    "        self.c = c\n",
    "        self.d = d\n",
    "\n",
    "    def custom(self, v):\n",
    "        return v - self.__a\n",
    "\n",
    "t = Test(1, 2, 3, 4) \n",
    "\n",
    "print(t._Test__a) # this is the way to access Pseudo private  attribute\n",
    "print(t.b)\n",
    "print(t.custom(5))"
   ]
  }
 ],
 "metadata": {
  "kernelspec": {
   "display_name": "Python 3 (ipykernel)",
   "language": "python",
   "name": "python3"
  },
  "language_info": {
   "codemirror_mode": {
    "name": "ipython",
    "version": 3
   },
   "file_extension": ".py",
   "mimetype": "text/x-python",
   "name": "python",
   "nbconvert_exporter": "python",
   "pygments_lexer": "ipython3",
   "version": "3.9.7"
  }
 },
 "nbformat": 4,
 "nbformat_minor": 5
}
