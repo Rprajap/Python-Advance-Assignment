{
 "cells": [
  {
   "cell_type": "markdown",
   "id": "8ef02e07",
   "metadata": {},
   "source": [
    "**Q1** What is the difference between __getattr__ and __getattribute__?\n",
    "\n",
    "**Answer**:-"
   ]
  },
  {
   "cell_type": "markdown",
   "id": "befdce9c",
   "metadata": {},
   "source": [
    "*  **getattribute**: Is used to retrieve an attribute from an instance. It captures every attempt to access an instance attribute by using dot notation or getattr() built-in function.\n",
    "\n",
    "* **getattr**: Is executed as the last resource when attribute is not found in an object. You can choose to return a default value or to raise AttributeError."
   ]
  },
  {
   "cell_type": "code",
   "execution_count": 3,
   "id": "843a0e65",
   "metadata": {},
   "outputs": [
    {
     "name": "stdout",
     "output_type": "stream",
     "text": [
      "looking up x\n",
      "42\n",
      "3\n",
      "__getattr__ sets a default value if undefeined OR __getattr__ to define how to handle attributes that are not found\n"
     ]
    }
   ],
   "source": [
    "class Foo(object):\n",
    "    def __getattr__(self, attr):\n",
    "        print(\"looking up\", attr)\n",
    "        value = 42\n",
    "        self.__dict__[attr] = value\n",
    "        return value\n",
    "\n",
    "f = Foo()\n",
    "print(f.x )\n",
    "#output >>> looking up x 42\n",
    "\n",
    "f.x = 3\n",
    "print(f.x)\n",
    "#output >>> 3\n",
    "\n",
    "print ('__getattr__ sets a default value if undefeined OR __getattr__ to define how to handle attributes that are not found')"
   ]
  },
  {
   "cell_type": "code",
   "execution_count": 5,
   "id": "768c1f53",
   "metadata": {},
   "outputs": [
    {
     "name": "stdout",
     "output_type": "stream",
     "text": [
      "New Value\n"
     ]
    }
   ],
   "source": [
    "#example of __getattribute__\n",
    "class Dummy():\n",
    "\n",
    "    def __getattribute__(self, attr):\n",
    "        return 'New Value'\n",
    "\n",
    "d = Dummy()\n",
    "d.value = \"Old value\"\n",
    "print(d.value)  # \"YOU SEE ME?\""
   ]
  },
  {
   "cell_type": "markdown",
   "id": "62c1403b",
   "metadata": {},
   "source": [
    "**Q2**. What is the difference between properties and descriptors?\n",
    "\n",
    "**Answer**:\n",
    "\n",
    "The differences between Properties and Descriptors is :\n",
    "\n",
    "* Properties : With Properties we can bind getter, setter and delete functions together with an attribute name, using the built-in property function or @property decorator. When we do this, each reference to an attribute looks like simple, direct access, but involes the appropriate function of the object.\n",
    "* Descriptor : With Descriptor we can bind getter, setter and delete functions into a seperate class. we then assign an object of this class to the attribute name in our main class. When we do this, each reference to an attribute looks like simple, direct access but invokes an appropriate function of descriptor object."
   ]
  },
  {
   "cell_type": "markdown",
   "id": "f87af4d2",
   "metadata": {},
   "source": [
    "**Q3**. What are the key differences in functionality between __getattr__ and __getattribute__, as well as properties and descriptors?\n",
    "\n",
    "**Answer**:\n",
    "\n",
    "The Key Differences between __getattr__, __getattribute__, Properties and Descriptors are :\n",
    "\n",
    "* __getattr__ : Python will call this method whenever you request an attribute that hasn't already been defined.\n",
    "* __getattribute__ : This method will invoked before looking at the actual attributes on the object. Means, if we have __getattribute__ method in our class, python invokes this method for every attribute regardless whether it exists or not.\n",
    "* Properties : With Properties we can bind getter, setter and delete functions together with an attribute name, using the built-in property function or @property decorator. When we do this, each reference to an attribute looks like simple, direct access, but involes the appropriate function of the object.\n",
    "* Descriptor : With Descriptor we can bind getter, setter and delete functions into a seperate class. we then assign an object of this class to the attribute name in our main class. When we do this, each reference to an attribute looks like simple, direct access but invokes an appropriate function of descriptor object."
   ]
  }
 ],
 "metadata": {
  "kernelspec": {
   "display_name": "Python 3 (ipykernel)",
   "language": "python",
   "name": "python3"
  },
  "language_info": {
   "codemirror_mode": {
    "name": "ipython",
    "version": 3
   },
   "file_extension": ".py",
   "mimetype": "text/x-python",
   "name": "python",
   "nbconvert_exporter": "python",
   "pygments_lexer": "ipython3",
   "version": "3.9.7"
  }
 },
 "nbformat": 4,
 "nbformat_minor": 5
}
