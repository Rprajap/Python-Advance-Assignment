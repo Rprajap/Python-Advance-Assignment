{
 "cells": [
  {
   "cell_type": "markdown",
   "id": "419f76b2",
   "metadata": {},
   "source": [
    "**Q1**. If you have any, what are your choices for increasing the comparison between different figures on the same graph?\n",
    "\n",
    "**Answer**:-\n",
    "\n",
    "Bar charts are good for comparisons, while line charts work better for trends. Scatter plot charts are good for relationships and distributions, but pie charts should be used only for simple compositions — never for comparisons or distributions."
   ]
  },
  {
   "cell_type": "markdown",
   "id": "a4d92f88",
   "metadata": {},
   "source": [
    "**Q**2. Can you explain the benefit of compound interest over a higher rate of interest that does not compound after reading this chapter?\n",
    "\n",
    "**Answer**:-"
   ]
  },
  {
   "cell_type": "markdown",
   "id": "372174d9",
   "metadata": {},
   "source": [
    "Compound interest is the interest on a deposit calculated based on both the initial principal and the accumulated interest from previous periods.1 Or, more simply put, compound interest is interest you earn on interest . You can compound interest on different frequency schedules such as daily, monthly or annually.\n",
    "\n",
    "Compound interest causes your wealth to grow faster. It makes a sum of money grow at a faster rate than simple interest because you will earn returns on the money you invest, as well as on returns at the end of every"
   ]
  },
  {
   "cell_type": "markdown",
   "id": "765cc636",
   "metadata": {},
   "source": [
    "**Q3**. What is a histogram, exactly? Name a numpy method for creating such a graph.\n",
    "\n",
    "**Answer**:-"
   ]
  },
  {
   "cell_type": "markdown",
   "id": "6b1d10f7",
   "metadata": {},
   "source": [
    "A histogram is the best way to visualize the frequency distribution of a dataset by splitting it into small equal-sized intervals called bins. The Numpy histogram function is similar to the hist() function of matplotlib library, the only difference is that the Numpy histogram gives the numerical representation of the dataset while the hist() gives graphical representation of the dataset. \n",
    "\n",
    "Numpy has a built-in numpy.histogram() function which represents the frequency of data distribution in the graphical form. The rectangles having equal horizontal size corresponds to class interval called bin and variable height corresponding to the frequency.\n",
    "\n",
    "**Example**:-"
   ]
  },
  {
   "cell_type": "code",
   "execution_count": 1,
   "id": "d6f211c6",
   "metadata": {},
   "outputs": [
    {
     "name": "stdout",
     "output_type": "stream",
     "text": [
      "\n",
      "[6 4 7 5 4 2 5 5 9 3]\n",
      "[  0  10  20  30  40  50  60  70  80  90 100]\n",
      "\n"
     ]
    }
   ],
   "source": [
    "# Import libraries\n",
    "import numpy as np\n",
    "# Creating dataset\n",
    "a = np.random.randint(100, size =(50))\n",
    " \n",
    "# Creating histogram\n",
    "np.histogram(a, bins = [0, 10, 20, 30, 40,\n",
    "                        50, 60, 70, 80, 90,\n",
    "                        100])\n",
    " \n",
    "hist, bins = np.histogram(a, bins = [0, 10,\n",
    "                                     20, 30,\n",
    "                                     40, 50,\n",
    "                                     60, 70,\n",
    "                                     80, 90,\n",
    "                                     100])\n",
    " \n",
    "# printing histogram\n",
    "print()\n",
    "print (hist)\n",
    "print (bins)\n",
    "print()"
   ]
  },
  {
   "cell_type": "markdown",
   "id": "dc6fb9f4",
   "metadata": {},
   "source": [
    "**Q4**. If necessary, how do you change the aspect ratios between the X and Y axes?\n",
    "\n",
    "**Answer**:-"
   ]
  },
  {
   "cell_type": "markdown",
   "id": "4d3240f7",
   "metadata": {},
   "source": [
    "The aspect ratio of a matplotlib plot refers to the aspect of the axis scaling, i.e. the ratio of y-unit to x-unit.\n",
    "\n",
    "This ratio can be modified by using the matplotlib.axes.Axes.set_aspect() function.\n",
    "\n",
    "Under the hood, the set_aspect() function actually modifies something known as the data coordinate system but in practice we typically want to modify the display coordinate system.\n",
    "\n",
    "**Example**-"
   ]
  },
  {
   "cell_type": "code",
   "execution_count": 3,
   "id": "8ee357a4",
   "metadata": {},
   "outputs": [
    {
     "data": {
      "image/png": "[encoded data removed]",
      "text/plain": [
       "<Figure size 432x288 with 1 Axes>"
      ]
     },
     "metadata": {
      "needs_background": "light"
     },
     "output_type": "display_data"
    }
   ],
   "source": [
    "import matplotlib.pyplot as plt\n",
    "\n",
    "#define matplotlib figure and axis\n",
    "fig, ax = plt.subplots()\n",
    "\n",
    "#create simple line plot\n",
    "ax.plot([0, 10],[0, 20])\n",
    "\n",
    "#display plot\n",
    "plt.show()"
   ]
  },
  {
   "cell_type": "markdown",
   "id": "cc67725b",
   "metadata": {},
   "source": [
    "## Set the Aspect Ratio "
   ]
  },
  {
   "cell_type": "code",
   "execution_count": 4,
   "id": "60252302",
   "metadata": {},
   "outputs": [
    {
     "data": {
      "image/png": "[encoded data removed]",
      "text/plain": [
       "<Figure size 432x288 with 1 Axes>"
      ]
     },
     "metadata": {
      "needs_background": "light"
     },
     "output_type": "display_data"
    }
   ],
   "source": [
    "import matplotlib.pyplot as plt\n",
    "\n",
    "#define matplotlib figure and axis\n",
    "fig, ax = plt.subplots()\n",
    "\n",
    "#create simple line plot\n",
    "ax.plot([0, 10],[0, 20])\n",
    "\n",
    "#set aspect ratio to 1\n",
    "ratio = 1.0\n",
    "x_left, x_right = ax.get_xlim()\n",
    "y_low, y_high = ax.get_ylim()\n",
    "ax.set_aspect(abs((x_right-x_left)/(y_low-y_high))*ratio)\n",
    "\n",
    "#display plot\n",
    "plt.show()"
   ]
  },
  {
   "cell_type": "markdown",
   "id": "3b47fdae",
   "metadata": {},
   "source": [
    "**Q5**. Compare and contrast the three types of array multiplication between two numpy arrays: dot product, outer product, and regular multiplication of two numpy arrays.\n",
    "\n",
    "**Answer**:-\n",
    "\n",
    "In regular multiplication values of same index get multiplied.\n",
    "\n",
    "**Example**:-"
   ]
  },
  {
   "cell_type": "code",
   "execution_count": 5,
   "id": "545d07b8",
   "metadata": {},
   "outputs": [
    {
     "name": "stdout",
     "output_type": "stream",
     "text": [
      "[[1 2 3]\n",
      " [4 5 6]\n",
      " [6 7 8]]\n",
      "\n",
      "[[10 20 30]\n",
      " [40 50 60]\n",
      " [60 70 80]]\n"
     ]
    }
   ],
   "source": [
    "import numpy as np\n",
    "\n",
    "a1 = np.array([[1,2,3], [4,5,6], [6,7,8]])\n",
    "a2 = np.array([[10,20,30], [40,50,60], [60,70,80]]) #suppose these are the two arrays of shape 3 x 3\n",
    "\n",
    "print(a1)\n",
    "print()\n",
    "print(a2)"
   ]
  },
  {
   "cell_type": "code",
   "execution_count": 6,
   "id": "76521f4a",
   "metadata": {},
   "outputs": [
    {
     "data": {
      "text/plain": [
       "array([[ 10,  40,  90],\n",
       "       [160, 250, 360],\n",
       "       [360, 490, 640]])"
      ]
     },
     "execution_count": 6,
     "metadata": {},
     "output_type": "execute_result"
    }
   ],
   "source": [
    "#standard multiplication\n",
    "\n",
    "a1*a2"
   ]
  },
  {
   "cell_type": "code",
   "execution_count": 7,
   "id": "129fdfd7",
   "metadata": {},
   "outputs": [
    {
     "data": {
      "text/plain": [
       "array([[ 270,  330,  390],\n",
       "       [ 600,  750,  900],\n",
       "       [ 820, 1030, 1240]])"
      ]
     },
     "execution_count": 7,
     "metadata": {},
     "output_type": "execute_result"
    }
   ],
   "source": [
    "# When we do standard multiplication in that case values of the same indexes in the array will get multiply. \n",
    "# Like in above example. A1(i,j) x A2(i,j)\n",
    "# dot product\n",
    "\n",
    "np.dot(a1,a2)"
   ]
  },
  {
   "cell_type": "code",
   "execution_count": 8,
   "id": "e73eee2c",
   "metadata": {},
   "outputs": [
    {
     "data": {
      "text/plain": [
       "array([[ 10,  20,  30,  40,  50,  60,  60,  70,  80],\n",
       "       [ 20,  40,  60,  80, 100, 120, 120, 140, 160],\n",
       "       [ 30,  60,  90, 120, 150, 180, 180, 210, 240],\n",
       "       [ 40,  80, 120, 160, 200, 240, 240, 280, 320],\n",
       "       [ 50, 100, 150, 200, 250, 300, 300, 350, 400],\n",
       "       [ 60, 120, 180, 240, 300, 360, 360, 420, 480],\n",
       "       [ 60, 120, 180, 240, 300, 360, 360, 420, 480],\n",
       "       [ 70, 140, 210, 280, 350, 420, 420, 490, 560],\n",
       "       [ 80, 160, 240, 320, 400, 480, 480, 560, 640]])"
      ]
     },
     "execution_count": 8,
     "metadata": {},
     "output_type": "execute_result"
    }
   ],
   "source": [
    "# In case of dot product vector, multiplication will take place between row of first array and column of secodn array \n",
    "# .respectively. Like first row of array a1 will be multiply by column value of array a2 one by one and then added.\n",
    "#outer multiplication\n",
    "\n",
    "np.outer(a1,a2)\n",
    "\n",
    "# In outer multiplication every element of first array a1 will be multiply by every element of other array a2 such \n",
    "# such the number of columns will be equal to the number of element in another array a2."
   ]
  },
  {
   "cell_type": "markdown",
   "id": "7ff18e41",
   "metadata": {},
   "source": [
    "**Q6**. Before you buy a home, which numpy function will you use to measure your monthly mortgage payment?\n",
    "\n",
    "**Answer**:-\n",
    "\n",
    "np.pmt(rate, nper, pv) function we will be using in order to calculate monthly mortgage payment before you purchase a house\n",
    "\n",
    "* rate = The periodic interest rate\n",
    "* nper = The number of payment periods\n",
    "* pv = The total value of the mortgage loan"
   ]
  },
  {
   "cell_type": "markdown",
   "id": "949b7f2e",
   "metadata": {},
   "source": [
    "**Q7**. Can string data be stored in numpy arrays? If so, list at least one restriction that applies to this data.\n",
    "\n",
    "**Answer**:-\n",
    "\n",
    "Yes, an array can store the string. The limitation which imposed on the string data is, whenever we store the data of string dtype then it should should keep in mind that the string which is having the maximum length is the limit.\n",
    "\n",
    "The dtype value is the maximum length of a string in such data. Meaning suppose if any new string we wanted to add, then we can add only that string which have the length either equal to that dtype value or less than that. If any string which are adding and if its length is more than the dtype value then it will only accpet to maximum length and rest of the characters will not be included."
   ]
  }
 ],
 "metadata": {
  "kernelspec": {
   "display_name": "Python 3 (ipykernel)",
   "language": "python",
   "name": "python3"
  },
  "language_info": {
   "codemirror_mode": {
    "name": "ipython",
    "version": 3
   },
   "file_extension": ".py",
   "mimetype": "text/x-python",
   "name": "python",
   "nbconvert_exporter": "python",
   "pygments_lexer": "ipython3",
   "version": "3.9.7"
  }
 },
 "nbformat": 4,
 "nbformat_minor": 5
}
