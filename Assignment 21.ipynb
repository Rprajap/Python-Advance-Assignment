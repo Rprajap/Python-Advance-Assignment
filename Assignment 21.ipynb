{
 "cells": [
  {
   "cell_type": "markdown",
   "id": "452c6532",
   "metadata": {},
   "source": [
    "**Q1**. What is a probability distribution, exactly? If the values are meant to be random, how can you predict them at all?\n",
    "\n",
    "**Answer**:-\n",
    "\n",
    "A probability distribution is a statistical function that describes all the possible values and likelihoods that a random variable can take within a given range. This range will be bounded between the minimum and maximum possible values, but precisely where the possible value is likely to be plotted on the probability distribution\n",
    "\n",
    "If the values are at random then based on previous historical  courrences of an event and probability associated with it is calculated and for new unknoum data we can predict label."
   ]
  },
  {
   "cell_type": "markdown",
   "id": "96425210",
   "metadata": {},
   "source": [
    "**Q2**. Is there a distinction between true random numbers and pseudo-random numbers, if there is one? Why are the latter considered “good enough”?\n",
    "\n",
    "**Answer**:-"
   ]
  },
  {
   "cell_type": "markdown",
   "id": "d76db884",
   "metadata": {},
   "source": [
    "Ramdom is truely random- completly unpredictable.What comes before gives you no indication of what will come next whatsover.Psudorandom sequences meet the statistical discription of randomness,but in fact aris from an algorithm such that you can predict every single value.In fact one can predict new value from previous value in will determined way.\n",
    "\n",
    "Psudorandom sequences are good beacuse you can use then tr test a system response to random input but at same time you can dublicata perfectly your\n",
    "input sequences."
   ]
  },
  {
   "cell_type": "markdown",
   "id": "dc29034c",
   "metadata": {},
   "source": [
    "**Q3**. What are the two main factors that influence the behaviour of a \"normal\" probability distribution?\n",
    "\n",
    "**Answer**:-"
   ]
  },
  {
   "cell_type": "markdown",
   "id": "26a75022",
   "metadata": {},
   "source": [
    "mean and variance are two parameter which influence the behaviour of a noarmal probability distribution as when mean is zero and varience is one then this distribution become standared normal distribution.\n"
   ]
  },
  {
   "cell_type": "markdown",
   "id": "54ff5610",
   "metadata": {},
   "source": [
    "**Q4**. Provide a real-life example of a normal distribution.\n",
    "\n",
    "**Answer**:-"
   ]
  },
  {
   "cell_type": "markdown",
   "id": "ba29ecab",
   "metadata": {},
   "source": [
    "Real-life example of a normal distribution is working hour in offices,water supply in society, salary,food consumption in house,electric consumption in office,size of bread,gas filled in cylinder ,transportation time etc."
   ]
  },
  {
   "cell_type": "markdown",
   "id": "c26343b9",
   "metadata": {},
   "source": [
    "**Q5**. In the short term, how can you expect a probability distribution to behave? What do you think will happen as the number of trials grows?\n",
    "\n",
    "**Answer**:-"
   ]
  },
  {
   "cell_type": "markdown",
   "id": "fe1b0ccb",
   "metadata": {},
   "source": [
    " In the short term, we can expect a probability distribution to behave like a normal distribution.when number of trial increases the varience become less."
   ]
  },
  {
   "cell_type": "markdown",
   "id": "fb196d1a",
   "metadata": {},
   "source": [
    "**Q6**. What kind of object can be shuffled by using random.shuffle?\n",
    "\n",
    "**Answer**:-\n",
    "\n",
    "lists (list), strings (str) and tuples (tuple) objects can be shuffled by using random.shuffle."
   ]
  },
  {
   "cell_type": "markdown",
   "id": "18fff947",
   "metadata": {},
   "source": [
    "**Q7**. Describe the math package's general categories of functions.\n",
    "\n",
    "**Answer**:-\n",
    "\n",
    "The general categories of math package are :\n",
    "\n",
    "* Trigonometric functions\n",
    "* Quadratic functions\n",
    "* Exponential functions\n",
    "* Hyperbolic functions\n",
    "* Periodic functions\n",
    "* Arithmetic functions\n",
    "* Logarithimic functions\n",
    "* Conversions to Integer"
   ]
  },
  {
   "cell_type": "markdown",
   "id": "664ad33a",
   "metadata": {},
   "source": [
    "**Q8**. What is the relationship between exponentiation and logarithms?\n",
    "\n",
    "**Answer**:-"
   ]
  },
  {
   "cell_type": "markdown",
   "id": "2bedcef3",
   "metadata": {},
   "source": [
    "An exponential function has the form a^x, where a is a constant; examples are 2^x, 10^x, e^x. The logarithmic functions are the inverses of the exponential functions, that is, functions that \"undo'' the exponential functions, just as, for example, the cube root function \"undoes'' the cube function: (2^3)^1/3=2. Note that the original function also undoes the inverse function: (8^3)^1/3=8\n",
    "\n",
    ".\n",
    "\n",
    "Let f(x)=2^x\n",
    ". The inverse of this function is called the logarithm base 2, denoted log2(x) or (especially in computer science circles) lg(x). What does this really mean? The logarithm must undo the action of the exponential function, so for example it must be that lg(23)=3—starting with 3, the exponential function produces 2^3=8, and the logarithm of 8 must get us back to 3"
   ]
  },
  {
   "cell_type": "markdown",
   "id": "c8c213d9",
   "metadata": {},
   "source": [
    "**Q9**. What are the three logarithmic functions that Python supports?\n",
    "\n",
    "**Answer:-\n",
    "\n",
    "The Three Logarithmic Functions that Python supports are :\n",
    "\n",
    "* log2(x) - logarithmic value of x to base 2.\n",
    "* log10(x) - logarithmic value of x to base 10.\n",
    "* log1p(a) - This function is used to compute logarithm(1+a)."
   ]
  },
  {
   "cell_type": "code",
   "execution_count": 2,
   "id": "301a2591",
   "metadata": {},
   "outputs": [
    {
     "name": "stdout",
     "output_type": "stream",
     "text": [
      "Log value:  0.6931471805599453\n",
      "Log value for base 2: \n",
      "4.321928094887363\n",
      "Log value for base 10: \n",
      "1.1760912590556813\n",
      "Log value(1+15) for x = 15 is: \n",
      "2.772588722239781\n"
     ]
    }
   ],
   "source": [
    "import math   \n",
    "\n",
    "print(\"Log value: \", math.log(2)) # natural logrithm\n",
    "print (\"Log value for base 2: \") # log with base 2\n",
    "print (math.log2(20)) \n",
    "print (\"Log value for base 10: \") # log with base 10\n",
    "print (math.log10(15)) \n",
    "print (\"Log value(1+15) for x = 15 is: \") # log(1+a).\n",
    "print (math.log1p(15)) "
   ]
  }
 ],
 "metadata": {
  "kernelspec": {
   "display_name": "Python 3 (ipykernel)",
   "language": "python",
   "name": "python3"
  },
  "language_info": {
   "codemirror_mode": {
    "name": "ipython",
    "version": 3
   },
   "file_extension": ".py",
   "mimetype": "text/x-python",
   "name": "python",
   "nbconvert_exporter": "python",
   "pygments_lexer": "ipython3",
   "version": "3.9.7"
  }
 },
 "nbformat": 4,
 "nbformat_minor": 5
}
